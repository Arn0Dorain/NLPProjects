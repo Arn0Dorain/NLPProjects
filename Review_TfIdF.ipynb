{
  "nbformat": 4,
  "nbformat_minor": 0,
  "metadata": {
    "colab": {
      "name": "Review_TfIdF.ipynb",
      "provenance": [],
      "mount_file_id": "1RDxaA2RWIlyc80U2NVgQi40Kg0p7JCj8",
      "authorship_tag": "ABX9TyOmTGaNmjx54a7JqsoSX1wH"
    },
    "kernelspec": {
      "name": "python3",
      "display_name": "Python 3"
    },
    "language_info": {
      "name": "python"
    }
  },
  "cells": [
    {
      "cell_type": "markdown",
      "metadata": {
        "id": "aIqfHt8V-gXy"
      },
      "source": [
        "Review Analysis using   --- TFIDF"
      ]
    },
    {
      "cell_type": "code",
      "metadata": {
        "id": "kZRKKNM-14O2"
      },
      "source": [
        "import pandas as pd\n",
        "import numpy as np\n",
        "import seaborn as sns\n",
        "from sklearn.feature_extraction.text import CountVectorizer\n",
        "from sklearn.model_selection import train_test_split\n",
        "from sklearn.linear_model import LogisticRegression"
      ],
      "execution_count": 1,
      "outputs": []
    },
    {
      "cell_type": "code",
      "metadata": {
        "id": "DG30fmQQ17wz"
      },
      "source": [
        "data1= pd.read_csv('/content/drive/MyDrive/Reviews.csv')"
      ],
      "execution_count": 4,
      "outputs": []
    },
    {
      "cell_type": "code",
      "metadata": {
        "id": "e3xdvHpW18V0"
      },
      "source": [
        "list=data1.columns \n"
      ],
      "execution_count": 5,
      "outputs": []
    },
    {
      "cell_type": "code",
      "metadata": {
        "colab": {
          "base_uri": "https://localhost:8080/"
        },
        "id": "c_wuhNkp2MwL",
        "outputId": "73251226-1619-4e52-fb3d-72cfa8fcf45c"
      },
      "source": [
        "data2 = data1[data1['Score']!=3]\n",
        "data2['Score'].unique()"
      ],
      "execution_count": 7,
      "outputs": [
        {
          "output_type": "execute_result",
          "data": {
            "text/plain": [
              "array([5, 1, 4, 2])"
            ]
          },
          "metadata": {
            "tags": []
          },
          "execution_count": 7
        }
      ]
    },
    {
      "cell_type": "code",
      "metadata": {
        "id": "lggXFJMR2Vi9"
      },
      "source": [
        "X = data2['Text']"
      ],
      "execution_count": 8,
      "outputs": []
    },
    {
      "cell_type": "code",
      "metadata": {
        "id": "I24YG8KJ2WOU"
      },
      "source": [
        "y_dictionary ={1:0,2:0,5:1,4:1}\n",
        "Y = data2['Score'].map(y_dictionary)\n"
      ],
      "execution_count": 16,
      "outputs": []
    },
    {
      "cell_type": "code",
      "metadata": {
        "id": "ffp_Xvt82Y6E"
      },
      "source": [
        "def txt_fit(X,Y,nlp_mdl,ml_mdl,Show_value=False):\n",
        "  X_Cv = nlp_mdl.fit_transform(X)\n",
        "  print('features:{}'.format(X_Cv.shape[1]))\n",
        "  X_train,X_test, Y_train , Y_test = train_test_split(X_Cv,Y)\n",
        "  m= ml_mdl.fit(X_train,Y_train)\n",
        "  accuracy =m.score(X_test,Y_test)\n",
        "  print(accuracy)\n",
        "\n",
        "  if Show_value == True:\n",
        "    w = cvc.get_feature_names()\n",
        "    Coefficent = m.coef_.tolist()[0]\n",
        "    Coeff_Data = pd.DataFrame({'Word':w ,'Coefficient':Coefficent})\n",
        "    Coeff_Data = Coeff_Data.sort_values(['Coefficient','Word'],ascending=False )\n",
        "    print(\"\\n\")\n",
        "    print(\"Top 10 Negative words\")\n",
        "    print(Coeff_Data.tail(10))\n",
        "  \n"
      ],
      "execution_count": 23,
      "outputs": []
    },
    {
      "cell_type": "code",
      "metadata": {
        "id": "Sm1jwg5v6xss"
      },
      "source": [
        ""
      ],
      "execution_count": null,
      "outputs": []
    },
    {
      "cell_type": "code",
      "metadata": {
        "colab": {
          "base_uri": "https://localhost:8080/"
        },
        "id": "_zyHN9aG27dp",
        "outputId": "8c676b9f-d347-4e79-f422-58f63917c41a"
      },
      "source": [
        "cvc = CountVectorizer(stop_words='english')\n",
        "\n",
        "txt_fit(X,Y,cvc,LogisticRegression(),True) \n"
      ],
      "execution_count": 20,
      "outputs": [
        {
          "output_type": "stream",
          "text": [
            "features:114969\n"
          ],
          "name": "stdout"
        },
        {
          "output_type": "stream",
          "text": [
            "/usr/local/lib/python3.7/dist-packages/sklearn/linear_model/_logistic.py:940: ConvergenceWarning: lbfgs failed to converge (status=1):\n",
            "STOP: TOTAL NO. of ITERATIONS REACHED LIMIT.\n",
            "\n",
            "Increase the number of iterations (max_iter) or scale the data as shown in:\n",
            "    https://scikit-learn.org/stable/modules/preprocessing.html\n",
            "Please also refer to the documentation for alternative solver options:\n",
            "    https://scikit-learn.org/stable/modules/linear_model.html#logistic-regression\n",
            "  extra_warning_msg=_LOGISTIC_SOLVER_CONVERGENCE_MSG)\n"
          ],
          "name": "stderr"
        },
        {
          "output_type": "stream",
          "text": [
            "0.9358558887519589\n",
            "\n",
            "\n",
            "Top 10 Positive words\n",
            "                 Word  Coefficient\n",
            "67898        mediocre    -3.002032\n",
            "41118     embarrassed    -3.126026\n",
            "88945          ripoff    -3.129534\n",
            "24949       cancelled    -3.213390\n",
            "113164          worst    -3.264870\n",
            "106852   unacceptable    -3.266484\n",
            "37560   disappointing    -3.278005\n",
            "65064           lousy    -3.293161\n",
            "34989       deceptive    -4.034674\n",
            "107383    undrinkable    -4.477026\n"
          ],
          "name": "stdout"
        }
      ]
    },
    {
      "cell_type": "code",
      "metadata": {
        "id": "V7fUoQYw2dnT"
      },
      "source": [
        "from sklearn.metrics import confusion_matrix,accuracy_score\n",
        "def pred(X,Y,nlp_mdl,ml_mdl):\n",
        "  X_Cv = nlp_mdl.fit_transform(X)\n",
        "  X_train,X_test, Y_train , Y_test = train_test_split(X_Cv,Y)\n",
        "  m= ml_mdl.fit(X_train,Y_train)\n",
        "  predctns = m.predict(X_test)\n",
        "  cmtrx = confusion_matrix(predctns,Y_test)\n",
        "\n",
        "  print(cmtrx)\n",
        "  accscore = accuracy_score(predctns,Y_test)\n",
        "\n",
        "  print(accscore)"
      ],
      "execution_count": 11,
      "outputs": []
    },
    {
      "cell_type": "code",
      "metadata": {
        "colab": {
          "base_uri": "https://localhost:8080/"
        },
        "id": "BBbQFTMF2nU7",
        "outputId": "65562dd6-91b3-4456-b500-f6fd2612476f"
      },
      "source": [
        "pred(X,Y,CountVectorizer(stop_words='english'),LogisticRegression())"
      ],
      "execution_count": 12,
      "outputs": [
        {
          "output_type": "stream",
          "text": [
            "/usr/local/lib/python3.7/dist-packages/sklearn/linear_model/_logistic.py:940: ConvergenceWarning: lbfgs failed to converge (status=1):\n",
            "STOP: TOTAL NO. of ITERATIONS REACHED LIMIT.\n",
            "\n",
            "Increase the number of iterations (max_iter) or scale the data as shown in:\n",
            "    https://scikit-learn.org/stable/modules/preprocessing.html\n",
            "Please also refer to the documentation for alternative solver options:\n",
            "    https://scikit-learn.org/stable/modules/linear_model.html#logistic-regression\n",
            "  extra_warning_msg=_LOGISTIC_SOLVER_CONVERGENCE_MSG)\n"
          ],
          "name": "stderr"
        },
        {
          "output_type": "stream",
          "text": [
            "[[ 14944   2750]\n",
            " [  5417 108343]]\n",
            "0.9378718030641897\n"
          ],
          "name": "stdout"
        }
      ]
    },
    {
      "cell_type": "code",
      "metadata": {
        "id": "8wZ5SVv82sAz"
      },
      "source": [
        "from sklearn.dummy import DummyClassifier\n"
      ],
      "execution_count": 21,
      "outputs": []
    },
    {
      "cell_type": "code",
      "metadata": {
        "colab": {
          "base_uri": "https://localhost:8080/"
        },
        "id": "AgyNk8_F5vJO",
        "outputId": "3c4245e3-326e-409f-aa11-1e3b5be28d6c"
      },
      "source": [
        "txt_fit(X,Y,cvc,DummyClassifier(),False)"
      ],
      "execution_count": 25,
      "outputs": [
        {
          "output_type": "stream",
          "text": [
            "features:114969\n",
            "0.7367900558370228\n"
          ],
          "name": "stdout"
        },
        {
          "output_type": "stream",
          "text": [
            "/usr/local/lib/python3.7/dist-packages/sklearn/dummy.py:132: FutureWarning: The default value of strategy will change from stratified to prior in 0.24.\n",
            "  \"stratified to prior in 0.24.\", FutureWarning)\n"
          ],
          "name": "stderr"
        }
      ]
    },
    {
      "cell_type": "code",
      "metadata": {
        "id": "BYRy6IEX7ikz"
      },
      "source": [
        ""
      ],
      "execution_count": null,
      "outputs": []
    },
    {
      "cell_type": "code",
      "metadata": {
        "id": "cLvuOGJO6z53"
      },
      "source": [
        "from sklearn.feature_extraction.text import TfidfVectorizer\n"
      ],
      "execution_count": 26,
      "outputs": []
    },
    {
      "cell_type": "code",
      "metadata": {
        "id": "1fcqmGd08HaV"
      },
      "source": [
        "tfidfV = TfidfVectorizer(stop_words='english')"
      ],
      "execution_count": 27,
      "outputs": []
    },
    {
      "cell_type": "code",
      "metadata": {
        "colab": {
          "base_uri": "https://localhost:8080/"
        },
        "id": "9BOxEBV_8P9R",
        "outputId": "e546da1b-13aa-48d6-c0b8-53efbce4070a"
      },
      "source": [
        "txt_fit(X,Y,tfidfV,LogisticRegression(), True)"
      ],
      "execution_count": 29,
      "outputs": [
        {
          "output_type": "stream",
          "text": [
            "features:114969\n"
          ],
          "name": "stdout"
        },
        {
          "output_type": "stream",
          "text": [
            "/usr/local/lib/python3.7/dist-packages/sklearn/linear_model/_logistic.py:940: ConvergenceWarning: lbfgs failed to converge (status=1):\n",
            "STOP: TOTAL NO. of ITERATIONS REACHED LIMIT.\n",
            "\n",
            "Increase the number of iterations (max_iter) or scale the data as shown in:\n",
            "    https://scikit-learn.org/stable/modules/preprocessing.html\n",
            "Please also refer to the documentation for alternative solver options:\n",
            "    https://scikit-learn.org/stable/modules/linear_model.html#logistic-regression\n",
            "  extra_warning_msg=_LOGISTIC_SOLVER_CONVERGENCE_MSG)\n"
          ],
          "name": "stderr"
        },
        {
          "output_type": "stream",
          "text": [
            "0.9354374914418732\n",
            "\n",
            "\n",
            "Top 10 Negative words\n",
            "                  Word  Coefficient\n",
            "103640           threw    -6.853643\n",
            "111251            weak    -7.011182\n",
            "107553   unfortunately    -7.376974\n",
            "55168         horrible    -7.725264\n",
            "37556     disappointed    -8.446700\n",
            "11000            awful    -8.695159\n",
            "37563   disappointment    -8.763269\n",
            "102845        terrible    -9.122061\n",
            "37560    disappointing    -9.958204\n",
            "113164           worst   -11.773592\n"
          ],
          "name": "stdout"
        }
      ]
    },
    {
      "cell_type": "code",
      "metadata": {
        "colab": {
          "base_uri": "https://localhost:8080/"
        },
        "id": "oi_-1Ci78lBJ",
        "outputId": "ca3c5b2e-647a-4778-83ae-c184c42e8ab8"
      },
      "source": [
        "pred(X,Y,cvc,LogisticRegression())"
      ],
      "execution_count": 30,
      "outputs": [
        {
          "output_type": "stream",
          "text": [
            "/usr/local/lib/python3.7/dist-packages/sklearn/linear_model/_logistic.py:940: ConvergenceWarning: lbfgs failed to converge (status=1):\n",
            "STOP: TOTAL NO. of ITERATIONS REACHED LIMIT.\n",
            "\n",
            "Increase the number of iterations (max_iter) or scale the data as shown in:\n",
            "    https://scikit-learn.org/stable/modules/preprocessing.html\n",
            "Please also refer to the documentation for alternative solver options:\n",
            "    https://scikit-learn.org/stable/modules/linear_model.html#logistic-regression\n",
            "  extra_warning_msg=_LOGISTIC_SOLVER_CONVERGENCE_MSG)\n"
          ],
          "name": "stderr"
        },
        {
          "output_type": "stream",
          "text": [
            "[[ 14845   2714]\n",
            " [  5747 108148]]\n",
            "0.9356352792611864\n"
          ],
          "name": "stdout"
        }
      ]
    },
    {
      "cell_type": "code",
      "metadata": {
        "colab": {
          "base_uri": "https://localhost:8080/"
        },
        "id": "rnLwML-E88_I",
        "outputId": "c4245a79-2e4f-4867-ba37-22fc673d8b3f"
      },
      "source": [
        "pred(X,Y,tfidfV,LogisticRegression())"
      ],
      "execution_count": 31,
      "outputs": [
        {
          "output_type": "stream",
          "text": [
            "[[ 14245   2353]\n",
            " [  6266 108590]]\n",
            "0.9344333378976676\n"
          ],
          "name": "stdout"
        },
        {
          "output_type": "stream",
          "text": [
            "/usr/local/lib/python3.7/dist-packages/sklearn/linear_model/_logistic.py:940: ConvergenceWarning: lbfgs failed to converge (status=1):\n",
            "STOP: TOTAL NO. of ITERATIONS REACHED LIMIT.\n",
            "\n",
            "Increase the number of iterations (max_iter) or scale the data as shown in:\n",
            "    https://scikit-learn.org/stable/modules/preprocessing.html\n",
            "Please also refer to the documentation for alternative solver options:\n",
            "    https://scikit-learn.org/stable/modules/linear_model.html#logistic-regression\n",
            "  extra_warning_msg=_LOGISTIC_SOLVER_CONVERGENCE_MSG)\n"
          ],
          "name": "stderr"
        }
      ]
    },
    {
      "cell_type": "code",
      "metadata": {
        "id": "8qD7quBK8XDh"
      },
      "source": [
        ""
      ],
      "execution_count": null,
      "outputs": []
    },
    {
      "cell_type": "code",
      "metadata": {
        "id": "uKpYbgmE6H3V"
      },
      "source": [
        ""
      ],
      "execution_count": null,
      "outputs": []
    }
  ]
}