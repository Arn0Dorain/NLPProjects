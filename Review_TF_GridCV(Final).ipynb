{
  "nbformat": 4,
  "nbformat_minor": 0,
  "metadata": {
    "colab": {
      "name": "Review_TF_GridCV(Final).ipynb",
      "provenance": [],
      "mount_file_id": "1RDxaA2RWIlyc80U2NVgQi40Kg0p7JCj8",
      "authorship_tag": "ABX9TyPtLH5Wnsi3XiTmKd2DRqVv"
    },
    "kernelspec": {
      "display_name": "Python 3",
      "name": "python3"
    },
    "language_info": {
      "name": "python"
    }
  },
  "cells": [
    {
      "cell_type": "markdown",
      "metadata": {
        "id": "aIqfHt8V-gXy"
      },
      "source": [
        "Review Analysis using   --- TFIDF"
      ]
    },
    {
      "cell_type": "code",
      "metadata": {
        "id": "kZRKKNM-14O2"
      },
      "source": [
        "import pandas as pd\n",
        "import numpy as np\n",
        "import seaborn as sns\n",
        "from sklearn.feature_extraction.text import CountVectorizer\n",
        "from sklearn.model_selection import train_test_split\n",
        "from sklearn.linear_model import LogisticRegression"
      ],
      "execution_count": 1,
      "outputs": []
    },
    {
      "cell_type": "code",
      "metadata": {
        "id": "DG30fmQQ17wz"
      },
      "source": [
        "data1= pd.read_csv('/content/drive/MyDrive/Reviews.csv')"
      ],
      "execution_count": 2,
      "outputs": []
    },
    {
      "cell_type": "code",
      "metadata": {
        "id": "e3xdvHpW18V0"
      },
      "source": [
        "list=data1.columns \n"
      ],
      "execution_count": 3,
      "outputs": []
    },
    {
      "cell_type": "code",
      "metadata": {
        "id": "d3WjJZF3LM-O"
      },
      "source": [
        "data1['HelpPercentage'] =np.where(data1['HelpfulnessDenominator']>0,data1['HelpfulnessNumerator']/data1['HelpfulnessDenominator'],-1)"
      ],
      "execution_count": 4,
      "outputs": []
    },
    {
      "cell_type": "code",
      "metadata": {
        "id": "cQUh1-YJLPvv"
      },
      "source": [
        "data1['UpVotePercent']=pd.cut(data1['HelpPercentage'],bins =[-1,0,0.2,0.4,0.6,0.8,1],labels=['Empty','0-20%','20-40','40-60','60-80','80-100'])"
      ],
      "execution_count": 5,
      "outputs": []
    },
    {
      "cell_type": "code",
      "metadata": {
        "id": "kl_Jje1VLQs-"
      },
      "source": [
        ""
      ],
      "execution_count": 5,
      "outputs": []
    },
    {
      "cell_type": "code",
      "metadata": {
        "colab": {
          "base_uri": "https://localhost:8080/"
        },
        "id": "c_wuhNkp2MwL",
        "outputId": "a0610cc2-52af-4ffa-ad35-16990ce85c71"
      },
      "source": [
        "data2 = data1[data1['Score']!=3]\n",
        "data2['Score'].unique()"
      ],
      "execution_count": 6,
      "outputs": [
        {
          "output_type": "execute_result",
          "data": {
            "text/plain": [
              "array([5, 1, 4, 2])"
            ]
          },
          "metadata": {
            "tags": []
          },
          "execution_count": 6
        }
      ]
    },
    {
      "cell_type": "code",
      "metadata": {
        "id": "lggXFJMR2Vi9"
      },
      "source": [
        "X = data2['Text']"
      ],
      "execution_count": 7,
      "outputs": []
    },
    {
      "cell_type": "code",
      "metadata": {
        "id": "I24YG8KJ2WOU"
      },
      "source": [
        "y_dictionary ={1:0,2:0,5:1,4:1}\n",
        "Y = data2['Score'].map(y_dictionary)\n"
      ],
      "execution_count": 8,
      "outputs": []
    },
    {
      "cell_type": "code",
      "metadata": {
        "id": "ffp_Xvt82Y6E"
      },
      "source": [
        "def txt_fit(X,Y,nlp_mdl,ml_mdl,Show_value=False):\n",
        "  X_Cv = nlp_mdl.fit_transform(X)\n",
        "  print('features:{}'.format(X_Cv.shape[1]))\n",
        "  X_train,X_test, Y_train , Y_test = train_test_split(X_Cv,Y)\n",
        "  m= ml_mdl.fit(X_train,Y_train)\n",
        "  accuracy =m.score(X_test,Y_test)\n",
        "  print(accuracy)\n",
        "\n",
        "  if Show_value == True:\n",
        "    w = cvc.get_feature_names()\n",
        "    Coefficent = m.coef_.tolist()[0]\n",
        "    Coeff_Data = pd.DataFrame({'Word':w ,'Coefficient':Coefficent})\n",
        "    Coeff_Data = Coeff_Data.sort_values(['Coefficient','Word'],ascending=False )\n",
        "    print(\"\\n\")\n",
        "    print(\"Top 10 Negative words\")\n",
        "    print(Coeff_Data.tail(10))\n",
        "  \n"
      ],
      "execution_count": 9,
      "outputs": []
    },
    {
      "cell_type": "code",
      "metadata": {
        "id": "Sm1jwg5v6xss"
      },
      "source": [
        ""
      ],
      "execution_count": 9,
      "outputs": []
    },
    {
      "cell_type": "code",
      "metadata": {
        "id": "_zyHN9aG27dp"
      },
      "source": [
        "cvc = CountVectorizer(stop_words='english')\n",
        "\n",
        "#txt_fit(X,Y,cvc,LogisticRegression(),True) \n"
      ],
      "execution_count": 10,
      "outputs": []
    },
    {
      "cell_type": "code",
      "metadata": {
        "id": "V7fUoQYw2dnT"
      },
      "source": [
        "from sklearn.metrics import confusion_matrix,accuracy_score\n",
        "def pred(X,Y,nlp_mdl,ml_mdl):\n",
        "  X_Cv = nlp_mdl.fit_transform(X)\n",
        "  X_train,X_test, Y_train , Y_test = train_test_split(X_Cv,Y)\n",
        "  m= ml_mdl.fit(X_train,Y_train)\n",
        "  predctns = m.predict(X_test)\n",
        "  cmtrx = confusion_matrix(predctns,Y_test)\n",
        "\n",
        "  print(cmtrx)\n",
        "  accscore = accuracy_score(predctns,Y_test)\n",
        "\n",
        "  print(accscore)"
      ],
      "execution_count": 11,
      "outputs": []
    },
    {
      "cell_type": "code",
      "metadata": {
        "colab": {
          "base_uri": "https://localhost:8080/"
        },
        "id": "BBbQFTMF2nU7",
        "outputId": "e35f8c3c-2810-4ee5-da1e-fd7b44627fa0"
      },
      "source": [
        "pred(X,Y,CountVectorizer(stop_words='english'),LogisticRegression())"
      ],
      "execution_count": 12,
      "outputs": [
        {
          "output_type": "stream",
          "text": [
            "/usr/local/lib/python3.7/dist-packages/sklearn/linear_model/_logistic.py:940: ConvergenceWarning: lbfgs failed to converge (status=1):\n",
            "STOP: TOTAL NO. of ITERATIONS REACHED LIMIT.\n",
            "\n",
            "Increase the number of iterations (max_iter) or scale the data as shown in:\n",
            "    https://scikit-learn.org/stable/modules/preprocessing.html\n",
            "Please also refer to the documentation for alternative solver options:\n",
            "    https://scikit-learn.org/stable/modules/linear_model.html#logistic-regression\n",
            "  extra_warning_msg=_LOGISTIC_SOLVER_CONVERGENCE_MSG)\n"
          ],
          "name": "stderr"
        },
        {
          "output_type": "stream",
          "text": [
            "[[ 14843   2854]\n",
            " [  5493 108264]]\n",
            "0.9365025027766367\n"
          ],
          "name": "stdout"
        }
      ]
    },
    {
      "cell_type": "code",
      "metadata": {
        "id": "8wZ5SVv82sAz"
      },
      "source": [
        "from sklearn.dummy import DummyClassifier\n"
      ],
      "execution_count": 13,
      "outputs": []
    },
    {
      "cell_type": "code",
      "metadata": {
        "id": "AgyNk8_F5vJO"
      },
      "source": [
        "#txt_fit(X,Y,cvc,DummyClassifier(),False)"
      ],
      "execution_count": 14,
      "outputs": []
    },
    {
      "cell_type": "code",
      "metadata": {
        "id": "BYRy6IEX7ikz"
      },
      "source": [
        ""
      ],
      "execution_count": 14,
      "outputs": []
    },
    {
      "cell_type": "code",
      "metadata": {
        "id": "cLvuOGJO6z53"
      },
      "source": [
        "from sklearn.feature_extraction.text import TfidfVectorizer\n"
      ],
      "execution_count": 15,
      "outputs": []
    },
    {
      "cell_type": "code",
      "metadata": {
        "id": "1fcqmGd08HaV"
      },
      "source": [
        "tfidfV = TfidfVectorizer(stop_words='english')"
      ],
      "execution_count": 16,
      "outputs": []
    },
    {
      "cell_type": "code",
      "metadata": {
        "id": "9BOxEBV_8P9R"
      },
      "source": [
        "#txt_fit(X,Y,tfidfV,LogisticRegression(), True)"
      ],
      "execution_count": 17,
      "outputs": []
    },
    {
      "cell_type": "code",
      "metadata": {
        "id": "oi_-1Ci78lBJ"
      },
      "source": [
        "#pred(X,Y,cvc,LogisticRegression())"
      ],
      "execution_count": 18,
      "outputs": []
    },
    {
      "cell_type": "code",
      "metadata": {
        "id": "rnLwML-E88_I"
      },
      "source": [
        "#pred(X,Y,tfidfV,LogisticRegression())"
      ],
      "execution_count": 19,
      "outputs": []
    },
    {
      "cell_type": "code",
      "metadata": {
        "id": "8qD7quBK8XDh"
      },
      "source": [
        ""
      ],
      "execution_count": 19,
      "outputs": []
    },
    {
      "cell_type": "code",
      "metadata": {
        "id": "Grwi11GlKmlT"
      },
      "source": [
        ""
      ],
      "execution_count": 19,
      "outputs": []
    },
    {
      "cell_type": "code",
      "metadata": {
        "id": "svimRSgPKqjn"
      },
      "source": [
        "data = data1[data1['Score']==5]"
      ],
      "execution_count": 20,
      "outputs": []
    },
    {
      "cell_type": "code",
      "metadata": {
        "colab": {
          "base_uri": "https://localhost:8080/"
        },
        "id": "6fZpOli5K6SX",
        "outputId": "f82f3909-6df6-4d75-8a2a-9f81d6807142"
      },
      "source": [
        "data['UpVotePercent'].unique()"
      ],
      "execution_count": 21,
      "outputs": [
        {
          "output_type": "execute_result",
          "data": {
            "text/plain": [
              "['80-100', NaN, '60-80', 'Empty', '40-60', '20-40', '0-20%']\n",
              "Categories (6, object): ['Empty' < '0-20%' < '20-40' < '40-60' < '60-80' < '80-100']"
            ]
          },
          "metadata": {
            "tags": []
          },
          "execution_count": 21
        }
      ]
    },
    {
      "cell_type": "code",
      "metadata": {
        "id": "l_i10mdzLid2"
      },
      "source": [
        "data2 = data[data['UpVotePercent'].isin(['80-100','60-80', '20-40', '0-20%'])]"
      ],
      "execution_count": 22,
      "outputs": []
    },
    {
      "cell_type": "code",
      "metadata": {
        "id": "odmNvZQSNR1z"
      },
      "source": [
        ""
      ],
      "execution_count": 22,
      "outputs": []
    },
    {
      "cell_type": "code",
      "metadata": {
        "id": "krelDSpmMSjt"
      },
      "source": [
        ""
      ],
      "execution_count": 22,
      "outputs": []
    },
    {
      "cell_type": "code",
      "metadata": {
        "id": "EOATOGtuMTsF"
      },
      "source": [
        "X = data2['Text']"
      ],
      "execution_count": 23,
      "outputs": []
    },
    {
      "cell_type": "code",
      "metadata": {
        "id": "PfgcyY_1NT07"
      },
      "source": [
        ""
      ],
      "execution_count": 23,
      "outputs": []
    },
    {
      "cell_type": "code",
      "metadata": {
        "colab": {
          "base_uri": "https://localhost:8080/"
        },
        "id": "UfpIBAdiMrdF",
        "outputId": "3077148d-45f6-48a3-ed44-03611cad6d79"
      },
      "source": [
        "X"
      ],
      "execution_count": 24,
      "outputs": [
        {
          "output_type": "execute_result",
          "data": {
            "text/plain": [
              "0         I have bought several of the Vitality canned d...\n",
              "8         Right now I'm mostly just sprouting this so my...\n",
              "10        I don't know if it's the cactus or the tequila...\n",
              "11        One of my boys needed to lose some weight and ...\n",
              "14        The Strawberry Twizzlers are my guilty pleasur...\n",
              "                                ...                        \n",
              "568440    Indie Candy's gummies are absolutely delicious...\n",
              "568444    As a foodie, I use a lot of Chinese 5 Spice po...\n",
              "568445    You can make this mix yourself, but the Star A...\n",
              "568451    These stars are small, so you can give 10-15 o...\n",
              "568452    These are the BEST treats for training and rew...\n",
              "Name: Text, Length: 154428, dtype: object"
            ]
          },
          "metadata": {
            "tags": []
          },
          "execution_count": 24
        }
      ]
    },
    {
      "cell_type": "code",
      "metadata": {
        "id": "KPG7dPsnNUWb"
      },
      "source": [
        ""
      ],
      "execution_count": 24,
      "outputs": []
    },
    {
      "cell_type": "code",
      "metadata": {
        "colab": {
          "base_uri": "https://localhost:8080/"
        },
        "id": "f0PGMvhHMsQL",
        "outputId": "7f885025-e4a6-4668-bfd3-143ff1eebadf"
      },
      "source": [
        "data2['UpVotePercent'].unique()"
      ],
      "execution_count": 25,
      "outputs": [
        {
          "output_type": "execute_result",
          "data": {
            "text/plain": [
              "['80-100', '60-80', '20-40', '0-20%']\n",
              "Categories (4, object): ['0-20%' < '20-40' < '60-80' < '80-100']"
            ]
          },
          "metadata": {
            "tags": []
          },
          "execution_count": 25
        }
      ]
    },
    {
      "cell_type": "code",
      "metadata": {
        "id": "A7juRwFpNWob"
      },
      "source": [
        ""
      ],
      "execution_count": 25,
      "outputs": []
    },
    {
      "cell_type": "code",
      "metadata": {
        "id": "d0e9VMRqM6mg"
      },
      "source": [
        "y_dictionary = {'80-100':1, '60-80':1,'20-40':0, '0-20%':0}\n",
        "Y = data2['UpVotePercent'].map(y_dictionary)"
      ],
      "execution_count": 26,
      "outputs": []
    },
    {
      "cell_type": "code",
      "metadata": {
        "id": "uHwbg8UJyV0Y"
      },
      "source": [
        ""
      ],
      "execution_count": 26,
      "outputs": []
    },
    {
      "cell_type": "code",
      "metadata": {
        "colab": {
          "base_uri": "https://localhost:8080/"
        },
        "id": "IpCIoM-cNg9j",
        "outputId": "411db0e0-c52b-472f-9d09-2706fcf3927e"
      },
      "source": [
        "Y"
      ],
      "execution_count": 27,
      "outputs": [
        {
          "output_type": "execute_result",
          "data": {
            "text/plain": [
              "0         1.0\n",
              "8         1.0\n",
              "10        1.0\n",
              "11        1.0\n",
              "14        1.0\n",
              "         ... \n",
              "568440    1.0\n",
              "568444    1.0\n",
              "568445    1.0\n",
              "568451    1.0\n",
              "568452    1.0\n",
              "Name: UpVotePercent, Length: 154428, dtype: float64"
            ]
          },
          "metadata": {
            "tags": []
          },
          "execution_count": 27
        }
      ]
    },
    {
      "cell_type": "code",
      "metadata": {
        "id": "Emp4r6fiyWwA"
      },
      "source": [
        ""
      ],
      "execution_count": 27,
      "outputs": []
    },
    {
      "cell_type": "code",
      "metadata": {
        "colab": {
          "base_uri": "https://localhost:8080/"
        },
        "id": "l3PLaGHONh46",
        "outputId": "ca32a49d-550b-428d-f1cd-6f994b155285"
      },
      "source": [
        "Y.value_counts()"
      ],
      "execution_count": 28,
      "outputs": [
        {
          "output_type": "execute_result",
          "data": {
            "text/plain": [
              "1.0    151721\n",
              "0.0      2707\n",
              "Name: UpVotePercent, dtype: int64"
            ]
          },
          "metadata": {
            "tags": []
          },
          "execution_count": 28
        }
      ]
    },
    {
      "cell_type": "code",
      "metadata": {
        "id": "uSxuwEnzyYrx"
      },
      "source": [
        ""
      ],
      "execution_count": 28,
      "outputs": []
    },
    {
      "cell_type": "code",
      "metadata": {
        "id": "7fbvUjLqNppi"
      },
      "source": [
        "tfidf = TfidfVectorizer()"
      ],
      "execution_count": 29,
      "outputs": []
    },
    {
      "cell_type": "code",
      "metadata": {
        "id": "6C8EW1AoyZk5"
      },
      "source": [
        ""
      ],
      "execution_count": 29,
      "outputs": []
    },
    {
      "cell_type": "code",
      "metadata": {
        "id": "04cfovYUNxBK"
      },
      "source": [
        "X_Cv = tfidf.fit_transform(X)"
      ],
      "execution_count": 30,
      "outputs": []
    },
    {
      "cell_type": "code",
      "metadata": {
        "id": "gVyKCyU8yaCB"
      },
      "source": [
        ""
      ],
      "execution_count": 30,
      "outputs": []
    },
    {
      "cell_type": "code",
      "metadata": {
        "colab": {
          "base_uri": "https://localhost:8080/"
        },
        "id": "sLQBW3BSN6ES",
        "outputId": "0e9473b5-46f1-49ae-a208-80431fe749e1"
      },
      "source": [
        "X_Cv"
      ],
      "execution_count": 31,
      "outputs": [
        {
          "output_type": "execute_result",
          "data": {
            "text/plain": [
              "<154428x67507 sparse matrix of type '<class 'numpy.float64'>'\n",
              "\twith 8919285 stored elements in Compressed Sparse Row format>"
            ]
          },
          "metadata": {
            "tags": []
          },
          "execution_count": 31
        }
      ]
    },
    {
      "cell_type": "code",
      "metadata": {
        "id": "B9rnoaJEyfsi"
      },
      "source": [
        ""
      ],
      "execution_count": 31,
      "outputs": []
    },
    {
      "cell_type": "code",
      "metadata": {
        "colab": {
          "base_uri": "https://localhost:8080/"
        },
        "id": "QKfnQQqMRG9c",
        "outputId": "623418e5-1990-496e-b652-93e792bdd42e"
      },
      "source": [
        "from imblearn.over_sampling import RandomOverSampler"
      ],
      "execution_count": 32,
      "outputs": [
        {
          "output_type": "stream",
          "text": [
            "/usr/local/lib/python3.7/dist-packages/sklearn/externals/six.py:31: FutureWarning: The module is deprecated in version 0.21 and will be removed in version 0.23 since we've dropped support for Python 2.7. Please rely on the official version of six (https://pypi.org/project/six/).\n",
            "  \"(https://pypi.org/project/six/).\", FutureWarning)\n",
            "/usr/local/lib/python3.7/dist-packages/sklearn/utils/deprecation.py:144: FutureWarning: The sklearn.neighbors.base module is  deprecated in version 0.22 and will be removed in version 0.24. The corresponding classes / functions should instead be imported from sklearn.neighbors. Anything that cannot be imported from sklearn.neighbors is now part of the private API.\n",
            "  warnings.warn(message, FutureWarning)\n"
          ],
          "name": "stderr"
        }
      ]
    },
    {
      "cell_type": "code",
      "metadata": {
        "id": "NqDyh0DKxEZX"
      },
      "source": [
        "ros = RandomOverSampler()"
      ],
      "execution_count": 33,
      "outputs": []
    },
    {
      "cell_type": "code",
      "metadata": {
        "colab": {
          "base_uri": "https://localhost:8080/"
        },
        "id": "-8Tqm6GuxKWp",
        "outputId": "517ffc06-ad8a-4c01-822c-0400a1552cb0"
      },
      "source": [
        "X_train_rsamp,Y_train_rsamp =ros.fit_sample(X_Cv,Y)"
      ],
      "execution_count": 34,
      "outputs": [
        {
          "output_type": "stream",
          "text": [
            "/usr/local/lib/python3.7/dist-packages/sklearn/utils/deprecation.py:87: FutureWarning: Function safe_indexing is deprecated; safe_indexing is deprecated in version 0.22 and will be removed in version 0.24.\n",
            "  warnings.warn(msg, category=FutureWarning)\n"
          ],
          "name": "stderr"
        }
      ]
    },
    {
      "cell_type": "code",
      "metadata": {
        "colab": {
          "base_uri": "https://localhost:8080/"
        },
        "id": "t6hyX1MXyhQZ",
        "outputId": "346c6c84-9c66-484e-b247-0ff775f6277d"
      },
      "source": [
        "X_train_rsamp.shape"
      ],
      "execution_count": 35,
      "outputs": [
        {
          "output_type": "execute_result",
          "data": {
            "text/plain": [
              "(303442, 67507)"
            ]
          },
          "metadata": {
            "tags": []
          },
          "execution_count": 35
        }
      ]
    },
    {
      "cell_type": "code",
      "metadata": {
        "colab": {
          "base_uri": "https://localhost:8080/"
        },
        "id": "XHjN2aSsymEq",
        "outputId": "c42ca005-c335-40d2-c4a6-3afc31f2ca73"
      },
      "source": [
        "Y_train_rsamp.shape"
      ],
      "execution_count": 36,
      "outputs": [
        {
          "output_type": "execute_result",
          "data": {
            "text/plain": [
              "(303442,)"
            ]
          },
          "metadata": {
            "tags": []
          },
          "execution_count": 36
        }
      ]
    },
    {
      "cell_type": "code",
      "metadata": {
        "id": "9lBBKiUJyoof"
      },
      "source": [
        "from collections import Counter\n"
      ],
      "execution_count": 37,
      "outputs": []
    },
    {
      "cell_type": "code",
      "metadata": {
        "colab": {
          "base_uri": "https://localhost:8080/"
        },
        "id": "8AEJN237y0De",
        "outputId": "8db97ca0-7f5a-4a0f-fc25-58b7bc1d6bc0"
      },
      "source": [
        "#Resampled data 0.0 & 1.1 are balanced\n",
        "cn =Counter(Y_train_rsamp)\n",
        "\n",
        "cn"
      ],
      "execution_count": 38,
      "outputs": [
        {
          "output_type": "execute_result",
          "data": {
            "text/plain": [
              "Counter({0.0: 151721, 1.0: 151721})"
            ]
          },
          "metadata": {
            "tags": []
          },
          "execution_count": 38
        }
      ]
    },
    {
      "cell_type": "code",
      "metadata": {
        "colab": {
          "base_uri": "https://localhost:8080/"
        },
        "id": "Tk0Edfk4zMkd",
        "outputId": "604c1d72-49fc-423a-b23f-15f7aa727551"
      },
      "source": [
        "#Original Data\n",
        "cn = Counter(Y)\n",
        "cn"
      ],
      "execution_count": 39,
      "outputs": [
        {
          "output_type": "execute_result",
          "data": {
            "text/plain": [
              "Counter({0.0: 2707, 1.0: 151721})"
            ]
          },
          "metadata": {
            "tags": []
          },
          "execution_count": 39
        }
      ]
    },
    {
      "cell_type": "code",
      "metadata": {
        "id": "NYG04TeyzTk5"
      },
      "source": [
        "from sklearn.linear_model import LogisticRegression\n",
        "from sklearn.model_selection import GridSearchCV"
      ],
      "execution_count": 40,
      "outputs": []
    },
    {
      "cell_type": "code",
      "metadata": {
        "id": "vDoF5xjNzsQU"
      },
      "source": [
        "lg_cl = LogisticRegression()\n",
        "\n",
        "grid = {'C':10.0**np.arange(-2,3),'penalty':['l1','l2'] }"
      ],
      "execution_count": 69,
      "outputs": []
    },
    {
      "cell_type": "code",
      "metadata": {
        "id": "2psAjaiXzwpd"
      },
      "source": [
        "clf = GridSearchCV(estimator=lg_cl,param_grid=grid,cv=5,n_jobs=-1,scoring='f1_macro')"
      ],
      "execution_count": 70,
      "outputs": []
    },
    {
      "cell_type": "code",
      "metadata": {
        "colab": {
          "base_uri": "https://localhost:8080/"
        },
        "id": "ZEMZXZs22qVf",
        "outputId": "5697c69d-8e08-4318-ffe0-4db60502a533"
      },
      "source": [
        "clf.fit(X_train_rsamp,Y_train_rsamp)"
      ],
      "execution_count": 71,
      "outputs": [
        {
          "output_type": "stream",
          "text": [
            "/usr/local/lib/python3.7/dist-packages/sklearn/linear_model/_logistic.py:940: ConvergenceWarning: lbfgs failed to converge (status=1):\n",
            "STOP: TOTAL NO. of ITERATIONS REACHED LIMIT.\n",
            "\n",
            "Increase the number of iterations (max_iter) or scale the data as shown in:\n",
            "    https://scikit-learn.org/stable/modules/preprocessing.html\n",
            "Please also refer to the documentation for alternative solver options:\n",
            "    https://scikit-learn.org/stable/modules/linear_model.html#logistic-regression\n",
            "  extra_warning_msg=_LOGISTIC_SOLVER_CONVERGENCE_MSG)\n"
          ],
          "name": "stderr"
        },
        {
          "output_type": "execute_result",
          "data": {
            "text/plain": [
              "GridSearchCV(cv=5, error_score=nan,\n",
              "             estimator=LogisticRegression(C=1.0, class_weight=None, dual=False,\n",
              "                                          fit_intercept=True,\n",
              "                                          intercept_scaling=1, l1_ratio=None,\n",
              "                                          max_iter=100, multi_class='auto',\n",
              "                                          n_jobs=None, penalty='l2',\n",
              "                                          random_state=None, solver='lbfgs',\n",
              "                                          tol=0.0001, verbose=0,\n",
              "                                          warm_start=False),\n",
              "             iid='deprecated', n_jobs=-1,\n",
              "             param_grid={'C': array([1.e-02, 1.e-01, 1.e+00, 1.e+01, 1.e+02]),\n",
              "                         'penalty': ['l1', 'l2']},\n",
              "             pre_dispatch='2*n_jobs', refit=True, return_train_score=False,\n",
              "             scoring='f1_macro', verbose=0)"
            ]
          },
          "metadata": {
            "tags": []
          },
          "execution_count": 71
        }
      ]
    },
    {
      "cell_type": "code",
      "metadata": {
        "id": "5neoZSUVJHxB"
      },
      "source": [
        ""
      ],
      "execution_count": null,
      "outputs": []
    },
    {
      "cell_type": "code",
      "metadata": {
        "colab": {
          "base_uri": "https://localhost:8080/"
        },
        "id": "CcSvJyEk3I-f",
        "outputId": "bc2ed6a0-5c4f-490e-88aa-2bc487916d10"
      },
      "source": [
        "lg_cl.get_params().keys()\n"
      ],
      "execution_count": 73,
      "outputs": [
        {
          "output_type": "execute_result",
          "data": {
            "text/plain": [
              "dict_keys(['C', 'class_weight', 'dual', 'fit_intercept', 'intercept_scaling', 'l1_ratio', 'max_iter', 'multi_class', 'n_jobs', 'penalty', 'random_state', 'solver', 'tol', 'verbose', 'warm_start'])"
            ]
          },
          "metadata": {
            "tags": []
          },
          "execution_count": 73
        }
      ]
    },
    {
      "cell_type": "code",
      "metadata": {
        "id": "ToDwSy7kLJoU"
      },
      "source": [
        "X_train,X_test,Y_train,Y_test = train_test_split(X_Cv,Y)"
      ],
      "execution_count": 75,
      "outputs": []
    },
    {
      "cell_type": "code",
      "metadata": {
        "id": "qP8TlSjSLpdf"
      },
      "source": [
        "predictn = clf.predict(X_test)"
      ],
      "execution_count": 77,
      "outputs": []
    },
    {
      "cell_type": "code",
      "metadata": {
        "colab": {
          "base_uri": "https://localhost:8080/"
        },
        "id": "vlPXTFAfLzdo",
        "outputId": "13090a28-4f8d-4a50-e1d2-e3ad9042e849"
      },
      "source": [
        "predictn"
      ],
      "execution_count": 78,
      "outputs": [
        {
          "output_type": "execute_result",
          "data": {
            "text/plain": [
              "array([1., 1., 0., ..., 1., 1., 1.])"
            ]
          },
          "metadata": {
            "tags": []
          },
          "execution_count": 78
        }
      ]
    },
    {
      "cell_type": "code",
      "metadata": {
        "colab": {
          "base_uri": "https://localhost:8080/"
        },
        "id": "BWUMoGTCL09g",
        "outputId": "f78c704c-c97f-4eba-e41b-8ff29f489ec0"
      },
      "source": [
        "confusion_matrix(Y_test,predictn)"
      ],
      "execution_count": 79,
      "outputs": [
        {
          "output_type": "execute_result",
          "data": {
            "text/plain": [
              "array([[  667,     0],\n",
              "       [  491, 37449]])"
            ]
          },
          "metadata": {
            "tags": []
          },
          "execution_count": 79
        }
      ]
    },
    {
      "cell_type": "code",
      "metadata": {
        "colab": {
          "base_uri": "https://localhost:8080/"
        },
        "id": "ZOHSuIV5L7wX",
        "outputId": "584e7dc8-7ae5-46c2-ed25-b90d4147db85"
      },
      "source": [
        "accuracy_score(Y_test,predictn)\n",
        "#Using Cross Validation GridCV we got more accurate model here."
      ],
      "execution_count": 80,
      "outputs": [
        {
          "output_type": "execute_result",
          "data": {
            "text/plain": [
              "0.9872820991011992"
            ]
          },
          "metadata": {
            "tags": []
          },
          "execution_count": 80
        }
      ]
    },
    {
      "cell_type": "code",
      "metadata": {
        "colab": {
          "base_uri": "https://localhost:8080/"
        },
        "id": "0bKF6QSXMINv",
        "outputId": "7333d3df-bc0c-4d99-fe24-d9de41155d3c"
      },
      "source": [
        "clf.best_params_\n"
      ],
      "execution_count": 86,
      "outputs": [
        {
          "output_type": "execute_result",
          "data": {
            "text/plain": [
              "{'C': 100.0, 'penalty': 'l2'}"
            ]
          },
          "metadata": {
            "tags": []
          },
          "execution_count": 86
        }
      ]
    },
    {
      "cell_type": "code",
      "metadata": {
        "colab": {
          "base_uri": "https://localhost:8080/"
        },
        "id": "CUl4BindM18t",
        "outputId": "c00c875e-1447-4998-944f-8447bea0f369"
      },
      "source": [
        "clf.score"
      ],
      "execution_count": 90,
      "outputs": [
        {
          "output_type": "execute_result",
          "data": {
            "text/plain": [
              "<bound method BaseSearchCV.score of GridSearchCV(cv=5, error_score=nan,\n",
              "             estimator=LogisticRegression(C=1.0, class_weight=None, dual=False,\n",
              "                                          fit_intercept=True,\n",
              "                                          intercept_scaling=1, l1_ratio=None,\n",
              "                                          max_iter=100, multi_class='auto',\n",
              "                                          n_jobs=None, penalty='l2',\n",
              "                                          random_state=None, solver='lbfgs',\n",
              "                                          tol=0.0001, verbose=0,\n",
              "                                          warm_start=False),\n",
              "             iid='deprecated', n_jobs=-1,\n",
              "             param_grid={'C': array([1.e-02, 1.e-01, 1.e+00, 1.e+01, 1.e+02]),\n",
              "                         'penalty': ['l1', 'l2']},\n",
              "             pre_dispatch='2*n_jobs', refit=True, return_train_score=False,\n",
              "             scoring='f1_macro', verbose=0)>"
            ]
          },
          "metadata": {
            "tags": []
          },
          "execution_count": 90
        }
      ]
    },
    {
      "cell_type": "code",
      "metadata": {
        "colab": {
          "base_uri": "https://localhost:8080/"
        },
        "id": "BhBniUM8NX2k",
        "outputId": "ae5631d5-2f93-45b9-829f-d51620011fe3"
      },
      "source": [
        "clf.predict_proba"
      ],
      "execution_count": 91,
      "outputs": [
        {
          "output_type": "execute_result",
          "data": {
            "text/plain": [
              "<function sklearn.model_selection._search.BaseSearchCV.predict_proba>"
            ]
          },
          "metadata": {
            "tags": []
          },
          "execution_count": 91
        }
      ]
    },
    {
      "cell_type": "code",
      "metadata": {
        "id": "WMdRosdyNcP0"
      },
      "source": [
        ""
      ],
      "execution_count": null,
      "outputs": []
    },
    {
      "cell_type": "code",
      "metadata": {
        "id": "OUfhWb_YNWhd"
      },
      "source": [
        ""
      ],
      "execution_count": null,
      "outputs": []
    },
    {
      "cell_type": "code",
      "metadata": {
        "id": "L2kAja_lNF-l"
      },
      "source": [
        ""
      ],
      "execution_count": null,
      "outputs": []
    },
    {
      "cell_type": "code",
      "metadata": {
        "id": "ffvjNrH5M9Wy"
      },
      "source": [
        ""
      ],
      "execution_count": null,
      "outputs": []
    },
    {
      "cell_type": "code",
      "metadata": {
        "id": "UfcYi5hDMwT2"
      },
      "source": [
        ""
      ],
      "execution_count": null,
      "outputs": []
    },
    {
      "cell_type": "code",
      "metadata": {
        "id": "ORySj2K8Mthq"
      },
      "source": [
        ""
      ],
      "execution_count": null,
      "outputs": []
    },
    {
      "cell_type": "code",
      "metadata": {
        "id": "RGIZ4qjxMnWu"
      },
      "source": [
        ""
      ],
      "execution_count": null,
      "outputs": []
    },
    {
      "cell_type": "code",
      "metadata": {
        "id": "5MLQruJbMkdu"
      },
      "source": [
        ""
      ],
      "execution_count": null,
      "outputs": []
    },
    {
      "cell_type": "code",
      "metadata": {
        "id": "1ciYorZGLu24"
      },
      "source": [
        ""
      ],
      "execution_count": null,
      "outputs": []
    },
    {
      "cell_type": "code",
      "metadata": {
        "id": "733ujKPkLljv"
      },
      "source": [
        ""
      ],
      "execution_count": null,
      "outputs": []
    },
    {
      "cell_type": "code",
      "metadata": {
        "id": "sO9lOEsuJeCo"
      },
      "source": [
        ""
      ],
      "execution_count": null,
      "outputs": []
    },
    {
      "cell_type": "code",
      "metadata": {
        "id": "_9aMVs1dJBx8"
      },
      "source": [
        ""
      ],
      "execution_count": null,
      "outputs": []
    },
    {
      "cell_type": "code",
      "metadata": {
        "id": "0Ps-SKYYI-hd"
      },
      "source": [
        ""
      ],
      "execution_count": null,
      "outputs": []
    },
    {
      "cell_type": "code",
      "metadata": {
        "id": "gTtfCVKf2kL4"
      },
      "source": [
        ""
      ],
      "execution_count": null,
      "outputs": []
    },
    {
      "cell_type": "code",
      "metadata": {
        "id": "aO2xdoIYzRee"
      },
      "source": [
        ""
      ],
      "execution_count": null,
      "outputs": []
    },
    {
      "cell_type": "code",
      "metadata": {
        "id": "UeLL-kZZzKW-"
      },
      "source": [
        ""
      ],
      "execution_count": null,
      "outputs": []
    },
    {
      "cell_type": "code",
      "metadata": {
        "id": "WGIopZ44zIOF"
      },
      "source": [
        ""
      ],
      "execution_count": null,
      "outputs": []
    },
    {
      "cell_type": "code",
      "metadata": {
        "id": "aryiLncozDGO"
      },
      "source": [
        ""
      ],
      "execution_count": null,
      "outputs": []
    },
    {
      "cell_type": "code",
      "metadata": {
        "id": "8S2PgVzOy-xX"
      },
      "source": [
        ""
      ],
      "execution_count": null,
      "outputs": []
    },
    {
      "cell_type": "code",
      "metadata": {
        "id": "BQlGJba2xcmb"
      },
      "source": [
        ""
      ],
      "execution_count": null,
      "outputs": []
    },
    {
      "cell_type": "code",
      "metadata": {
        "id": "rJyVkcQoQqzd"
      },
      "source": [
        ""
      ],
      "execution_count": null,
      "outputs": []
    },
    {
      "cell_type": "code",
      "metadata": {
        "id": "qDGU8PfzQln1"
      },
      "source": [
        ""
      ],
      "execution_count": null,
      "outputs": []
    },
    {
      "cell_type": "code",
      "metadata": {
        "id": "NmyvPQBXQjG1"
      },
      "source": [
        ""
      ],
      "execution_count": null,
      "outputs": []
    },
    {
      "cell_type": "code",
      "metadata": {
        "id": "D1T8xzGbNXjD"
      },
      "source": [
        ""
      ],
      "execution_count": null,
      "outputs": []
    },
    {
      "cell_type": "code",
      "metadata": {
        "id": "imKfHMzIM76k"
      },
      "source": [
        ""
      ],
      "execution_count": null,
      "outputs": []
    },
    {
      "cell_type": "code",
      "metadata": {
        "id": "DWX7tMNQMJ-F"
      },
      "source": [
        ""
      ],
      "execution_count": null,
      "outputs": []
    },
    {
      "cell_type": "code",
      "metadata": {
        "id": "WZsBtCB9LfNW"
      },
      "source": [
        ""
      ],
      "execution_count": null,
      "outputs": []
    },
    {
      "cell_type": "code",
      "metadata": {
        "id": "SCot-N-3LZym"
      },
      "source": [
        ""
      ],
      "execution_count": null,
      "outputs": []
    },
    {
      "cell_type": "code",
      "metadata": {
        "id": "VwgH9ZPIK-t3"
      },
      "source": [
        ""
      ],
      "execution_count": null,
      "outputs": []
    },
    {
      "cell_type": "code",
      "metadata": {
        "id": "F8G1vxGhK0p3"
      },
      "source": [
        ""
      ],
      "execution_count": null,
      "outputs": []
    },
    {
      "cell_type": "code",
      "metadata": {
        "id": "ljtsQzjIKxaX"
      },
      "source": [
        ""
      ],
      "execution_count": null,
      "outputs": []
    }
  ]
}