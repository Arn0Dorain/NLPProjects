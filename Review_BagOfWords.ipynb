{
  "nbformat": 4,
  "nbformat_minor": 0,
  "metadata": {
    "colab": {
      "name": "Review_BagOfWords.ipynb",
      "provenance": [],
      "mount_file_id": "1_2CdfBkuJy3KAWvFwACpJyYS-7W9tnHa",
      "authorship_tag": "ABX9TyMhHpmUb4f8OXurc+aibfdJ",
      "include_colab_link": true
    },
    "kernelspec": {
      "name": "python3",
      "display_name": "Python 3"
    },
    "language_info": {
      "name": "python"
    }
  },
  "cells": [
    {
      "cell_type": "markdown",
      "metadata": {
        "id": "view-in-github",
        "colab_type": "text"
      },
      "source": [
        "<a href=\"https://colab.research.google.com/github/Arn0Dorain/NLPProjects/blob/main/Review_BagOfWords.ipynb\" target=\"_parent\"><img src=\"https://colab.research.google.com/assets/colab-badge.svg\" alt=\"Open In Colab\"/></a>"
      ]
    },
    {
      "cell_type": "markdown",
      "metadata": {
        "id": "fAcJc43TIDzB"
      },
      "source": [
        "**Predict The Positive and Negative Words in Revivews Using Bag Of Words Approach(NLP) & Logistic Regression**\n"
      ]
    },
    {
      "cell_type": "code",
      "metadata": {
        "id": "4JIzv0AEcGMF"
      },
      "source": [
        "import pandas as pd\n",
        "import numpy as np\n",
        "import seaborn as sns\n",
        "from sklearn.feature_extraction.text import CountVectorizer\n",
        "from sklearn.model_selection import train_test_split\n",
        "from sklearn.linear_model import LogisticRegression"
      ],
      "execution_count": 34,
      "outputs": []
    },
    {
      "cell_type": "code",
      "metadata": {
        "id": "J2zvFYP1c3Gj"
      },
      "source": [
        "data1= pd.read_csv('/content/drive/MyDrive/Reviews.csv')"
      ],
      "execution_count": 2,
      "outputs": []
    },
    {
      "cell_type": "code",
      "metadata": {
        "colab": {
          "base_uri": "https://localhost:8080/",
          "height": 683
        },
        "id": "WbBbwV-MdEwK",
        "outputId": "cc13b6b5-8fbb-48f7-e0e3-2bd77a635509"
      },
      "source": [
        "data1.head()\n"
      ],
      "execution_count": 3,
      "outputs": [
        {
          "output_type": "execute_result",
          "data": {
            "text/html": [
              "<div>\n",
              "<style scoped>\n",
              "    .dataframe tbody tr th:only-of-type {\n",
              "        vertical-align: middle;\n",
              "    }\n",
              "\n",
              "    .dataframe tbody tr th {\n",
              "        vertical-align: top;\n",
              "    }\n",
              "\n",
              "    .dataframe thead th {\n",
              "        text-align: right;\n",
              "    }\n",
              "</style>\n",
              "<table border=\"1\" class=\"dataframe\">\n",
              "  <thead>\n",
              "    <tr style=\"text-align: right;\">\n",
              "      <th></th>\n",
              "      <th>Id</th>\n",
              "      <th>ProductId</th>\n",
              "      <th>UserId</th>\n",
              "      <th>ProfileName</th>\n",
              "      <th>HelpfulnessNumerator</th>\n",
              "      <th>HelpfulnessDenominator</th>\n",
              "      <th>Score</th>\n",
              "      <th>Time</th>\n",
              "      <th>Summary</th>\n",
              "      <th>Text</th>\n",
              "    </tr>\n",
              "  </thead>\n",
              "  <tbody>\n",
              "    <tr>\n",
              "      <th>0</th>\n",
              "      <td>1</td>\n",
              "      <td>B001E4KFG0</td>\n",
              "      <td>A3SGXH7AUHU8GW</td>\n",
              "      <td>delmartian</td>\n",
              "      <td>1</td>\n",
              "      <td>1</td>\n",
              "      <td>5</td>\n",
              "      <td>1303862400</td>\n",
              "      <td>Good Quality Dog Food</td>\n",
              "      <td>I have bought several of the Vitality canned d...</td>\n",
              "    </tr>\n",
              "    <tr>\n",
              "      <th>1</th>\n",
              "      <td>2</td>\n",
              "      <td>B00813GRG4</td>\n",
              "      <td>A1D87F6ZCVE5NK</td>\n",
              "      <td>dll pa</td>\n",
              "      <td>0</td>\n",
              "      <td>0</td>\n",
              "      <td>1</td>\n",
              "      <td>1346976000</td>\n",
              "      <td>Not as Advertised</td>\n",
              "      <td>Product arrived labeled as Jumbo Salted Peanut...</td>\n",
              "    </tr>\n",
              "    <tr>\n",
              "      <th>2</th>\n",
              "      <td>3</td>\n",
              "      <td>B000LQOCH0</td>\n",
              "      <td>ABXLMWJIXXAIN</td>\n",
              "      <td>Natalia Corres \"Natalia Corres\"</td>\n",
              "      <td>1</td>\n",
              "      <td>1</td>\n",
              "      <td>4</td>\n",
              "      <td>1219017600</td>\n",
              "      <td>\"Delight\" says it all</td>\n",
              "      <td>This is a confection that has been around a fe...</td>\n",
              "    </tr>\n",
              "    <tr>\n",
              "      <th>3</th>\n",
              "      <td>4</td>\n",
              "      <td>B000UA0QIQ</td>\n",
              "      <td>A395BORC6FGVXV</td>\n",
              "      <td>Karl</td>\n",
              "      <td>3</td>\n",
              "      <td>3</td>\n",
              "      <td>2</td>\n",
              "      <td>1307923200</td>\n",
              "      <td>Cough Medicine</td>\n",
              "      <td>If you are looking for the secret ingredient i...</td>\n",
              "    </tr>\n",
              "    <tr>\n",
              "      <th>4</th>\n",
              "      <td>5</td>\n",
              "      <td>B006K2ZZ7K</td>\n",
              "      <td>A1UQRSCLF8GW1T</td>\n",
              "      <td>Michael D. Bigham \"M. Wassir\"</td>\n",
              "      <td>0</td>\n",
              "      <td>0</td>\n",
              "      <td>5</td>\n",
              "      <td>1350777600</td>\n",
              "      <td>Great taffy</td>\n",
              "      <td>Great taffy at a great price.  There was a wid...</td>\n",
              "    </tr>\n",
              "  </tbody>\n",
              "</table>\n",
              "</div>"
            ],
            "text/plain": [
              "   Id  ...                                               Text\n",
              "0   1  ...  I have bought several of the Vitality canned d...\n",
              "1   2  ...  Product arrived labeled as Jumbo Salted Peanut...\n",
              "2   3  ...  This is a confection that has been around a fe...\n",
              "3   4  ...  If you are looking for the secret ingredient i...\n",
              "4   5  ...  Great taffy at a great price.  There was a wid...\n",
              "\n",
              "[5 rows x 10 columns]"
            ]
          },
          "metadata": {
            "tags": []
          },
          "execution_count": 3
        }
      ]
    },
    {
      "cell_type": "code",
      "metadata": {
        "id": "T83O25N7dNJ-"
      },
      "source": [
        "list=data1.columns "
      ],
      "execution_count": 4,
      "outputs": []
    },
    {
      "cell_type": "code",
      "metadata": {
        "colab": {
          "base_uri": "https://localhost:8080/"
        },
        "id": "vEKvCkuEdlO1",
        "outputId": "f131c91c-b4ab-446f-df59-dd840356aaed"
      },
      "source": [
        "list"
      ],
      "execution_count": 5,
      "outputs": [
        {
          "output_type": "execute_result",
          "data": {
            "text/plain": [
              "Index(['Id', 'ProductId', 'UserId', 'ProfileName', 'HelpfulnessNumerator',\n",
              "       'HelpfulnessDenominator', 'Score', 'Time', 'Summary', 'Text'],\n",
              "      dtype='object')"
            ]
          },
          "metadata": {
            "tags": []
          },
          "execution_count": 5
        }
      ]
    },
    {
      "cell_type": "code",
      "metadata": {
        "colab": {
          "base_uri": "https://localhost:8080/"
        },
        "id": "Y6_zXdGUeeyL",
        "outputId": "9aebc409-7f49-4fe9-af33-392ac4ab9985"
      },
      "source": [
        "data1['HelpfulnessDenominator']\n"
      ],
      "execution_count": 6,
      "outputs": [
        {
          "output_type": "execute_result",
          "data": {
            "text/plain": [
              "0         1\n",
              "1         0\n",
              "2         1\n",
              "3         3\n",
              "4         0\n",
              "         ..\n",
              "568449    0\n",
              "568450    0\n",
              "568451    2\n",
              "568452    1\n",
              "568453    0\n",
              "Name: HelpfulnessDenominator, Length: 568454, dtype: int64"
            ]
          },
          "metadata": {
            "tags": []
          },
          "execution_count": 6
        }
      ]
    },
    {
      "cell_type": "code",
      "metadata": {
        "id": "htxmjreve8fz"
      },
      "source": [
        ""
      ],
      "execution_count": 6,
      "outputs": []
    },
    {
      "cell_type": "code",
      "metadata": {
        "colab": {
          "base_uri": "https://localhost:8080/"
        },
        "id": "fVNEzkkqe1_7",
        "outputId": "d79bb7b2-556d-4e89-b324-daa9bb3a9097"
      },
      "source": [
        "data1['HelpfulnessNumerator']"
      ],
      "execution_count": 7,
      "outputs": [
        {
          "output_type": "execute_result",
          "data": {
            "text/plain": [
              "0         1\n",
              "1         0\n",
              "2         1\n",
              "3         3\n",
              "4         0\n",
              "         ..\n",
              "568449    0\n",
              "568450    0\n",
              "568451    2\n",
              "568452    1\n",
              "568453    0\n",
              "Name: HelpfulnessNumerator, Length: 568454, dtype: int64"
            ]
          },
          "metadata": {
            "tags": []
          },
          "execution_count": 7
        }
      ]
    },
    {
      "cell_type": "code",
      "metadata": {
        "id": "NcGitcJme5Az"
      },
      "source": [
        "data1['HelpPercentage'] =np.where(data1['HelpfulnessDenominator']>0,data1['HelpfulnessNumerator']/data1['HelpfulnessDenominator'],-1)"
      ],
      "execution_count": 8,
      "outputs": []
    },
    {
      "cell_type": "code",
      "metadata": {
        "colab": {
          "base_uri": "https://localhost:8080/"
        },
        "id": "3YvwWzJDf2io",
        "outputId": "2dff5d5a-0cb4-469a-8e1c-cf74173491a6"
      },
      "source": [
        "data1.columns"
      ],
      "execution_count": 9,
      "outputs": [
        {
          "output_type": "execute_result",
          "data": {
            "text/plain": [
              "Index(['Id', 'ProductId', 'UserId', 'ProfileName', 'HelpfulnessNumerator',\n",
              "       'HelpfulnessDenominator', 'Score', 'Time', 'Summary', 'Text',\n",
              "       'HelpPercentage'],\n",
              "      dtype='object')"
            ]
          },
          "metadata": {
            "tags": []
          },
          "execution_count": 9
        }
      ]
    },
    {
      "cell_type": "code",
      "metadata": {
        "colab": {
          "base_uri": "https://localhost:8080/"
        },
        "id": "55zJ1SQ9f61_",
        "outputId": "c4a14d98-0990-47f1-fa16-6f03770b6d57"
      },
      "source": [
        "data1['HelpPercentage'].unique()"
      ],
      "execution_count": 10,
      "outputs": [
        {
          "output_type": "execute_result",
          "data": {
            "text/plain": [
              "array([ 1.        , -1.        ,  0.8       ,  0.        ,  0.5       ,\n",
              "        0.66666667,  0.25      ,  0.89473684,  0.83333333,  0.75      ,\n",
              "        0.33333333,  0.3       ,  0.11111111,  0.42857143,  0.875     ,\n",
              "        0.85714286,  0.2       ,  0.26315789,  0.6       ,  0.71428571,\n",
              "        0.53846154,  0.57142857,  0.91489362,  0.86666667,  0.82352941,\n",
              "        0.78571429,  0.74074074,  0.4       ,  0.375     ,  0.28571429,\n",
              "        0.14285714,  0.77777778,  0.125     ,  0.9       ,  0.94117647,\n",
              "        0.92307692,  0.7       ,  0.45454545,  0.88888889,  0.83870968,\n",
              "        0.9047619 ,  0.92857143,  0.90909091,  0.91666667,  0.84615385,\n",
              "        0.10526316,  0.98214286,  0.97826087,  0.7518797 ,  0.3125    ,\n",
              "        0.1       ,  0.18518519,  0.88      ,  0.69230769,  0.625     ,\n",
              "        0.54545455,  0.41666667,  0.45833333,  0.22222222,  0.81818182,\n",
              "        0.8125    ,  0.16666667,  0.93103448,  0.88235294,  0.23529412,\n",
              "        0.63636364,  0.81481481,  0.95652174,  0.64285714,  0.58333333,\n",
              "        0.94444444,  0.921875  ,  0.86574074,  0.96      ,  0.91304348,\n",
              "        0.64705882,  0.95833333,  0.09090909,  0.13333333,  0.52941176,\n",
              "        0.96969697,  0.36363636,  0.07142857,  0.72727273,  0.18181818,\n",
              "        0.96666667,  0.99074074,  0.97297297,  0.80645161,  0.64102564,\n",
              "        0.55555556,  0.4375    ,  0.76923077,  0.28      ,  0.15384615,\n",
              "        0.44444444,  0.5625    ,  0.53333333,  0.47058824,  0.47222222,\n",
              "        0.23076923,  0.25925926,  0.98876404,  0.88372093,  0.19047619,\n",
              "        0.94594595,  0.84313725,  0.96629213,  0.72222222,  0.05882353,\n",
              "        0.27272727,  0.97959184,  0.26666667,  0.30769231,  0.94736842,\n",
              "        0.27777778,  0.6875    ,  0.92      ,  0.90566038,  0.95      ,\n",
              "        0.9375    ,  0.9137931 ,  0.82857143,  0.86363636,  0.85      ,\n",
              "        0.96428571,  0.95238095,  0.08333333,  0.97560976,  0.93333333,\n",
              "        0.46666667,  0.96153846,  0.24      ,  0.92682927,  0.93548387,\n",
              "        0.86956522,  0.06666667,  0.98461538,  0.97      ,  0.97619048,\n",
              "        0.925     ,  0.88461538,  0.61538462,  0.09375   ,  0.79166667,\n",
              "        0.70588235,  0.45      ,  0.93939394,  0.90322581,  0.68      ,\n",
              "        0.95454545,  0.04166667,  0.89655172,  0.88571429,  0.38461538,\n",
              "        0.07692308,  0.12121212,  0.92237443,  0.92156863,  0.36585366,\n",
              "        0.88095238,  0.84      ,  0.61904762,  0.96129032,  0.96385542,\n",
              "        0.90588235,  0.87878788,  0.05555556,  0.80952381,  0.20689655,\n",
              "        0.07407407,  0.35      ,  0.77272727,  0.91428571,  0.04545455,\n",
              "        0.76470588,  0.70833333,  0.73333333,  0.93650794,  0.8671875 ,\n",
              "        0.75949367,  0.65957447,  0.57692308,  0.41176471,  0.40909091,\n",
              "        0.34693878,  0.30263158,  0.16176471,  0.65      ,  0.96296296,\n",
              "        0.96808511,  0.94915254,  0.98290598,  0.9893617 ,  0.95744681,\n",
              "        0.96268657,  0.98305085,  0.61111111,  0.59183673,  0.98913043,\n",
              "        0.98809524,  0.92982456,  0.78947368,  0.75757576,  0.82608696,\n",
              "        0.96491228,  0.84507042,  0.98412698,  0.96551724,  0.87341772,\n",
              "        0.73913043,  0.7037037 ,  0.98888889,  0.7826087 ,  0.17647059,\n",
              "        0.96226415,  0.94339623,  0.97058824,  0.57894737,  0.47368421,\n",
              "        0.5106383 ,  0.97777778,  0.92352941,  0.78378378,  0.97674419,\n",
              "        0.35714286,  0.94805195,  0.94285714,  0.86538462,  0.43478261,\n",
              "        0.99186992,  0.8627451 ,  0.97142857,  0.98484848,  0.73076923,\n",
              "        0.68181818,  0.63333333,  0.64583333,  0.96774194,  0.05263158,\n",
              "        0.36842105,  0.82926829,  0.92045455,  0.34782609,  0.85365854,\n",
              "        0.91803279,  0.97222222,  0.46153846,  0.2173913 ,  0.82051282,\n",
              "        0.29032258,  0.95754717,  0.91176471,  0.04761905,  0.65714286,\n",
              "        0.13636364,  0.77142857,  0.953125  ,  0.92592593,  0.0862069 ,\n",
              "        0.80555556,  0.20512821,  0.29411765,  0.9925187 ,  0.98564593,\n",
              "        0.99253731,  0.80487805,  0.82142857,  0.76      ,  0.21428571,\n",
              "        0.31914894,  0.02702703,  0.20833333,  0.92105263,  0.78125   ,\n",
              "        0.61290323,  0.97435897,  0.07894737,  0.72413793,  0.03125   ,\n",
              "        0.68421053,  0.97979798,  0.38888889,  0.975     ,  0.80769231,\n",
              "        0.06060606,  0.93023256,  0.97260274,  0.90769231,  0.31372549,\n",
              "        0.15789474,  0.32258065,  0.95959596,  0.21052632,  0.84210526,\n",
              "        0.32      ,  0.92631579,  0.03703704,  1.5       ,  0.11428571,\n",
              "        0.88333333,  0.1875    ,  0.96875   ,  0.64      ,  0.30434783,\n",
              "        0.93150685,  0.88709677,  0.75609756,  0.60606061,  0.54166667,\n",
              "        0.52380952,  0.98275862,  0.98630137,  0.76190476,  0.85106383,\n",
              "        0.79069767,  0.8974359 ,  0.93617021,  0.87234043,  0.0625    ,\n",
              "        0.075     ,  0.39393939,  0.74107143,  0.49090909,  0.90243902,\n",
              "        0.56521739,  0.27027027,  0.03846154,  0.31147541,  0.24528302,\n",
              "        0.97727273,  0.60714286,  0.98360656,  0.95918367,  0.94      ,\n",
              "        0.72      ,  0.15      ,  0.12903226,  0.35294118,  0.14084507,\n",
              "        0.13888889,  0.08219178,  0.03636364,  0.13043478,  0.55172414,\n",
              "        0.64516129,  0.98      ,  0.76271186,  0.98333333,  0.95384615,\n",
              "        0.85294118,  0.13513514,  0.32142857,  0.87912088,  0.82758621,\n",
              "        0.72881356,  0.73684211,  0.86111111,  0.81355932,  0.72839506,\n",
              "        0.73809524,  0.74193548,  0.51612903,  0.7109375 ,  0.69565217,\n",
              "        0.02941176,  0.17391304,  0.85185185,  0.06451613,  0.92727273,\n",
              "        0.08695652,  0.03333333,  0.475     ,  0.32352941,  0.22727273,\n",
              "        0.98113208,  0.42307692,  3.        ,  0.90625   ,  0.8404908 ,\n",
              "        0.72093023,  0.98181818,  0.69047619,  0.05660377,  0.93159609,\n",
              "        0.95604396,  0.95348837,  0.98823529,  0.95774648,  0.94520548,\n",
              "        0.62068966,  0.22058824,  0.25827815,  0.86842105,  0.82222222,\n",
              "        0.89041096,  0.78846154,  0.63157895,  0.98717949,  0.93406593,\n",
              "        0.11538462,  0.04      ,  0.86206897,  0.38095238,  0.95555556,\n",
              "        0.97402597,  0.94230769,  0.47619048,  0.99166667,  0.98387097,\n",
              "        0.93589744,  0.89915966,  0.88489209,  0.89285714,  0.8989899 ,\n",
              "        0.84415584,  0.02857143,  0.98496241,  0.96590909,  0.91240876,\n",
              "        0.94545455,  0.90526316,  0.67924528,  0.109375  ,  0.89090909,\n",
              "        0.98795181,  0.02777778,  0.94642857,  0.18918919,  0.67605634,\n",
              "        0.55      ,  0.53030303,  0.45098039,  0.05454545,  0.96363636,\n",
              "        0.06122449,  0.98039216,  0.99443414,  0.98688525,  0.27586207,\n",
              "        0.1025641 ,  0.11764706,  0.05128205,  0.81395349,  0.69387755,\n",
              "        0.98611111,  0.99466192,  0.98951782,  0.98723404,  0.97122302,\n",
              "        0.97183099,  0.75862069,  0.98550725,  0.97368421,  0.56      ,\n",
              "        0.98657718,  0.90196078,  0.77419355,  0.65625   ,  0.87012987,\n",
              "        0.25581395,  0.21153846,  0.71794872,  0.52      ,  0.02222222,\n",
              "        0.15625   ,  0.05      ,  0.10714286,  0.8902439 ,  0.79310345,\n",
              "        0.65384615,  0.94174757,  0.65116279,  0.59459459,  0.58823529,\n",
              "        0.0952381 ,  0.10638298,  0.20430108,  0.89361702,  0.65217391,\n",
              "        0.84090909,  0.92753623,  0.89156627,  0.89333333,  0.890625  ,\n",
              "        0.38709677,  0.60869565,  0.65853659,  0.42105263,  0.88405797,\n",
              "        0.92473118,  0.86486486,  0.02985075,  0.40625   ,  0.97916667,\n",
              "        0.52631579,  0.19230769,  0.98571429,  0.53571429,  0.12765957,\n",
              "        0.97333333,  0.67857143,  0.93506494,  0.88976378,  0.87037037,\n",
              "        0.81081081,  0.12244898,  0.51724138,  0.89502762,  0.51851852,\n",
              "        0.93181818,  0.82692308,  0.73529412,  0.22857143,  0.62962963,\n",
              "        0.31034483,  0.9787234 ,  0.96078431,  0.45714286,  0.98033708,\n",
              "        0.93877551,  0.86904762,  0.98268398,  0.98850575,  0.98148148,\n",
              "        0.56756757,  0.99145299,  0.17948718,  0.71641791,  0.91111111,\n",
              "        0.82653061,  0.98734177,  0.984375  ,  0.58064516,  0.47826087,\n",
              "        0.44      ,  0.39130435,  0.20454545,  0.98351648,  0.95714286,\n",
              "        0.96503497,  0.86263736,  0.12      ,  0.76595745,  0.86440678,\n",
              "        0.89873418,  0.91525424,  0.91071429,  0.88636364,  0.48275862,\n",
              "        0.03571429,  0.98591549,  0.69090909,  0.9516129 ,  0.48780488,\n",
              "        0.13793103,  0.08108108,  0.11904762,  0.80597015,  0.9273743 ,\n",
              "        0.89308176,  0.3960396 ,  0.98245614,  0.99415205,  0.98969072,\n",
              "        0.96721311,  0.64788732,  0.23333333,  0.99196787,  0.87603306,\n",
              "        0.86567164,  0.87096774,  0.83269962,  0.84057971,  0.82978723,\n",
              "        0.78333333,  0.80434783,  0.78787879,  0.95121951,  0.13157895,\n",
              "        0.96923077,  0.08571429,  0.98701299,  0.775     ,  0.90163934,\n",
              "        0.9245283 ,  0.34285714,  0.14814815,  0.83529412,  0.79487179,\n",
              "        0.74666667,  0.73239437,  0.74285714,  0.63855422,  0.63414634,\n",
              "        0.04347826,  0.84782609,  0.81632653,  0.94871795,  0.04301075,\n",
              "        0.22580645,  0.98924731,  0.84375   ,  0.94047619,  0.91891892,\n",
              "        0.85416667,  0.67307692,  0.97468354,  0.74545455,  0.7311828 ,\n",
              "        0.45945946,  0.97938144,  0.92405063,  0.97101449,  0.68493151,\n",
              "        0.58      ,  0.79104478,  0.68888889,  0.99278846,  0.87179487,\n",
              "        0.36111111,  0.36206897,  0.21621622,  0.08510638,  0.62745098,\n",
              "        0.48387097,  0.25806452,  0.98633257,  0.97761194,  0.9789916 ,\n",
              "        0.97530864,  0.96470588,  0.95588235,  0.89705882,  0.85483871,\n",
              "        0.72463768,  0.05405405,  0.8630137 ,  0.16129032,  0.29166667,\n",
              "        0.70454545,  0.23255814,  0.94623656,  0.95412844,  0.75555556,\n",
              "        0.67647059,  0.08      ,  0.98837209,  0.4137931 ,  0.59375   ,\n",
              "        0.52777778,  0.48      ,  0.46551724,  0.34146341,  0.36619718,\n",
              "        0.24137931,  0.30188679,  0.265625  ,  0.09756098,  0.13559322,\n",
              "        0.91440953,  0.91509434,  0.89622642,  0.86086957,  0.85436893,\n",
              "        0.85245902,  0.81609195,  0.8030303 ,  0.78      ,  0.77647059,\n",
              "        0.79545455,  0.76521739,  0.77966102,  0.72321429,  0.72972973,\n",
              "        0.67741935,  0.62222222,  0.98652291,  0.78873239,  0.26086957,\n",
              "        0.71875   ,  0.39285714,  0.87804878,  0.69444444,  0.79411765,\n",
              "        0.992     ,  0.97647059,  0.31578947,  0.31707317,  0.88679245,\n",
              "        0.79591837,  0.9261745 ,  0.8629174 ,  0.98666667,  0.26923077,\n",
              "        0.17857143,  0.38235294,  0.99180328,  0.15942029,  0.90277778,\n",
              "        0.36      ,  0.98507463,  0.7721519 ,  0.04651163,  0.68965517,\n",
              "        0.95890411,  0.06766917,  0.56603774,  0.69767442,  0.93442623,\n",
              "        0.97807757,  0.52173913,  0.75471698,  0.70967742,  0.98076923,\n",
              "        0.23809524,  0.95522388,  0.87142857,  0.74418605,  0.83783784,\n",
              "        0.75510204,  0.59090909,  0.89711934,  0.87301587,  0.89795918,\n",
              "        0.73493976,  0.99122807,  0.96644295,  0.95876289,  0.86046512,\n",
              "        0.07954545,  0.76666667,  0.16216216,  0.02739726,  0.09677419,\n",
              "        0.27659574,  0.83636364,  0.65306122,  0.53521127,  0.97580645,\n",
              "        0.93478261,  0.7755102 ,  0.98672566,  0.99619772,  0.9876161 ,\n",
              "        0.97169811,  0.92957746,  0.97534247,  0.97123894,  0.97191011,\n",
              "        0.97969543,  0.96478873,  0.95491803,  0.03508772,  0.73584906,\n",
              "        0.96341463,  0.69135802,  0.61764706,  0.74358974,  0.92428198,\n",
              "        0.93421053,  0.78723404,  0.37931034,  0.95762712,  0.92783505,\n",
              "        0.16      ,  0.34615385,  0.76388889,  0.63461538,  0.68518519,\n",
              "        0.67567568,  0.675     ,  0.98394495,  0.40540541,  0.57575758,\n",
              "        0.89189189,  0.86330935,  0.18604651,  0.98897059,  0.9673913 ,\n",
              "        0.9379562 ,  0.93243243,  0.98347107,  0.19444444,  0.91139241,\n",
              "        0.84444444,  0.93220339,  0.968     ,  0.53125   ,  0.71698113,\n",
              "        0.80672269,  0.02325581,  0.21875   ,  0.89519651,  0.71604938,\n",
              "        0.2826087 ,  0.07462687,  0.97887324,  0.58974359,  0.33928571,\n",
              "        0.21818182,  0.06779661,  0.28947368,  0.9625    ,  0.95081967,\n",
              "        0.91549296,  0.10344828,  0.99212598,  0.84848485,  0.07317073,\n",
              "        0.97831325,  0.97972973,  0.96511628,  0.9202454 ,  0.90140845,\n",
              "        0.14492754,  0.37837838,  0.46511628,  0.98765432,  0.98697068,\n",
              "        0.91875   ,  0.84274194,  0.84693878,  0.828125  ,  0.6969697 ,\n",
              "        0.02439024,  0.99090909,  0.94078947,  0.94666667,  0.98979592,\n",
              "        0.81132075,  0.87654321,  0.15277778,  0.68085106,  0.82022472,\n",
              "        0.88321168,  0.96703297,  0.08955224,  0.31818182,  0.96610169,\n",
              "        0.95302013,  0.94375   ,  0.81578947,  0.98319328,  0.98639456,\n",
              "        0.89719626,  0.99107143,  0.64864865,  0.88947368,  0.78688525,\n",
              "        0.825     ,  0.34482759,  0.95098039,  0.04444444,  0.95804196,\n",
              "        0.18461538,  0.97663551,  0.97196262,  0.72641509,  0.3877551 ,\n",
              "        0.85964912,  0.43333333,  0.34920635,  0.09195402,  0.98529412,\n",
              "        0.36666667,  0.9695122 ,  0.83928571,  0.75675676,  0.5862069 ,\n",
              "        0.98780488,  0.48648649,  0.03448276,  0.04285714,  0.96039604,\n",
              "        0.01098901,  0.43902439,  0.31428571,  0.95327103,  0.98695652,\n",
              "        0.94949495,  0.89230769,  0.83673469,  0.75438596,  0.24242424,\n",
              "        0.25961538,  0.75409836,  0.14634146,  0.9627907 ,  0.30232558,\n",
              "        0.97163121,  0.37037037,  0.0212766 ,  0.5952381 ,  0.995     ,\n",
              "        0.99029126,  0.99689441,  0.9691358 ,  0.74      ,  0.34210526,\n",
              "        0.38596491,  0.97857143,  0.90697674,  0.20588235,  0.97807018,\n",
              "        0.97905759,  0.77570093,  0.11666667,  0.85384615,  0.92380952,\n",
              "        0.76829268,  0.91612903,  0.91025641,  0.99019608,  0.58181818,\n",
              "        0.46875   ,  0.73170732,  0.97321429,  0.70731707,  0.59259259,\n",
              "        0.10810811,  0.89830508,  0.44827586,  0.97457627,  0.8961039 ,\n",
              "        0.54285714,  0.07843137,  0.98251748,  0.90234375,  0.02830189,\n",
              "        0.98947368,  0.98684211,  0.17073171,  0.69724771,  0.976     ,\n",
              "        0.98165138,  0.97590361,  0.90438247,  0.40740741,  0.8490566 ,\n",
              "        0.96410256,  0.9380531 ,  0.77358491,  0.17777778,  0.44117647,\n",
              "        0.03076923,  0.87755102,  0.0962963 ,  0.91836735,  0.87951807,\n",
              "        0.80851064,  0.99141104])"
            ]
          },
          "metadata": {
            "tags": []
          },
          "execution_count": 10
        }
      ]
    },
    {
      "cell_type": "code",
      "metadata": {
        "colab": {
          "base_uri": "https://localhost:8080/"
        },
        "id": "5LgaUClFgBUQ",
        "outputId": "78c402ac-e112-4d37-a625-97535c49a576"
      },
      "source": [
        "data1['HelpPercentage'].size"
      ],
      "execution_count": 11,
      "outputs": [
        {
          "output_type": "execute_result",
          "data": {
            "text/plain": [
              "568454"
            ]
          },
          "metadata": {
            "tags": []
          },
          "execution_count": 11
        }
      ]
    },
    {
      "cell_type": "code",
      "metadata": {
        "id": "Zb7f6dXIgMp5"
      },
      "source": [
        "data1['UpVotePercent']=pd.cut(data1['HelpPercentage'],bins =[-1,0,0.2,0.4,0.6,0.8,1],labels=['Empty','0-20%','20-40','40-60','60-80','80-100'])"
      ],
      "execution_count": 12,
      "outputs": []
    },
    {
      "cell_type": "code",
      "metadata": {
        "colab": {
          "base_uri": "https://localhost:8080/"
        },
        "id": "WZ5hWGTVg5KR",
        "outputId": "5d8adff8-8661-40a5-9895-8f4c3436cad6"
      },
      "source": [
        "data1.columns"
      ],
      "execution_count": 13,
      "outputs": [
        {
          "output_type": "execute_result",
          "data": {
            "text/plain": [
              "Index(['Id', 'ProductId', 'UserId', 'ProfileName', 'HelpfulnessNumerator',\n",
              "       'HelpfulnessDenominator', 'Score', 'Time', 'Summary', 'Text',\n",
              "       'HelpPercentage', 'UpVotePercent'],\n",
              "      dtype='object')"
            ]
          },
          "metadata": {
            "tags": []
          },
          "execution_count": 13
        }
      ]
    },
    {
      "cell_type": "code",
      "metadata": {
        "colab": {
          "base_uri": "https://localhost:8080/",
          "height": 547
        },
        "id": "gesuiThyg78A",
        "outputId": "f07d842b-fe3a-415c-d9d5-e1cb66d6ebef"
      },
      "source": [
        "data1.tail()"
      ],
      "execution_count": 14,
      "outputs": [
        {
          "output_type": "execute_result",
          "data": {
            "text/html": [
              "<div>\n",
              "<style scoped>\n",
              "    .dataframe tbody tr th:only-of-type {\n",
              "        vertical-align: middle;\n",
              "    }\n",
              "\n",
              "    .dataframe tbody tr th {\n",
              "        vertical-align: top;\n",
              "    }\n",
              "\n",
              "    .dataframe thead th {\n",
              "        text-align: right;\n",
              "    }\n",
              "</style>\n",
              "<table border=\"1\" class=\"dataframe\">\n",
              "  <thead>\n",
              "    <tr style=\"text-align: right;\">\n",
              "      <th></th>\n",
              "      <th>Id</th>\n",
              "      <th>ProductId</th>\n",
              "      <th>UserId</th>\n",
              "      <th>ProfileName</th>\n",
              "      <th>HelpfulnessNumerator</th>\n",
              "      <th>HelpfulnessDenominator</th>\n",
              "      <th>Score</th>\n",
              "      <th>Time</th>\n",
              "      <th>Summary</th>\n",
              "      <th>Text</th>\n",
              "      <th>HelpPercentage</th>\n",
              "      <th>UpVotePercent</th>\n",
              "    </tr>\n",
              "  </thead>\n",
              "  <tbody>\n",
              "    <tr>\n",
              "      <th>568449</th>\n",
              "      <td>568450</td>\n",
              "      <td>B001EO7N10</td>\n",
              "      <td>A28KG5XORO54AY</td>\n",
              "      <td>Lettie D. Carter</td>\n",
              "      <td>0</td>\n",
              "      <td>0</td>\n",
              "      <td>5</td>\n",
              "      <td>1299628800</td>\n",
              "      <td>Will not do without</td>\n",
              "      <td>Great for sesame chicken..this is a good if no...</td>\n",
              "      <td>-1.0</td>\n",
              "      <td>NaN</td>\n",
              "    </tr>\n",
              "    <tr>\n",
              "      <th>568450</th>\n",
              "      <td>568451</td>\n",
              "      <td>B003S1WTCU</td>\n",
              "      <td>A3I8AFVPEE8KI5</td>\n",
              "      <td>R. Sawyer</td>\n",
              "      <td>0</td>\n",
              "      <td>0</td>\n",
              "      <td>2</td>\n",
              "      <td>1331251200</td>\n",
              "      <td>disappointed</td>\n",
              "      <td>I'm disappointed with the flavor. The chocolat...</td>\n",
              "      <td>-1.0</td>\n",
              "      <td>NaN</td>\n",
              "    </tr>\n",
              "    <tr>\n",
              "      <th>568451</th>\n",
              "      <td>568452</td>\n",
              "      <td>B004I613EE</td>\n",
              "      <td>A121AA1GQV751Z</td>\n",
              "      <td>pksd \"pk_007\"</td>\n",
              "      <td>2</td>\n",
              "      <td>2</td>\n",
              "      <td>5</td>\n",
              "      <td>1329782400</td>\n",
              "      <td>Perfect for our maltipoo</td>\n",
              "      <td>These stars are small, so you can give 10-15 o...</td>\n",
              "      <td>1.0</td>\n",
              "      <td>80-100</td>\n",
              "    </tr>\n",
              "    <tr>\n",
              "      <th>568452</th>\n",
              "      <td>568453</td>\n",
              "      <td>B004I613EE</td>\n",
              "      <td>A3IBEVCTXKNOH</td>\n",
              "      <td>Kathy A. Welch \"katwel\"</td>\n",
              "      <td>1</td>\n",
              "      <td>1</td>\n",
              "      <td>5</td>\n",
              "      <td>1331596800</td>\n",
              "      <td>Favorite Training and reward treat</td>\n",
              "      <td>These are the BEST treats for training and rew...</td>\n",
              "      <td>1.0</td>\n",
              "      <td>80-100</td>\n",
              "    </tr>\n",
              "    <tr>\n",
              "      <th>568453</th>\n",
              "      <td>568454</td>\n",
              "      <td>B001LR2CU2</td>\n",
              "      <td>A3LGQPJCZVL9UC</td>\n",
              "      <td>srfell17</td>\n",
              "      <td>0</td>\n",
              "      <td>0</td>\n",
              "      <td>5</td>\n",
              "      <td>1338422400</td>\n",
              "      <td>Great Honey</td>\n",
              "      <td>I am very satisfied ,product is as advertised,...</td>\n",
              "      <td>-1.0</td>\n",
              "      <td>NaN</td>\n",
              "    </tr>\n",
              "  </tbody>\n",
              "</table>\n",
              "</div>"
            ],
            "text/plain": [
              "            Id   ProductId  ... HelpPercentage UpVotePercent\n",
              "568449  568450  B001EO7N10  ...           -1.0           NaN\n",
              "568450  568451  B003S1WTCU  ...           -1.0           NaN\n",
              "568451  568452  B004I613EE  ...            1.0        80-100\n",
              "568452  568453  B004I613EE  ...            1.0        80-100\n",
              "568453  568454  B001LR2CU2  ...           -1.0           NaN\n",
              "\n",
              "[5 rows x 12 columns]"
            ]
          },
          "metadata": {
            "tags": []
          },
          "execution_count": 14
        }
      ]
    },
    {
      "cell_type": "code",
      "metadata": {
        "colab": {
          "base_uri": "https://localhost:8080/",
          "height": 1000
        },
        "id": "wI8n-4grhVcs",
        "outputId": "2c85206b-887d-4f41-8901-c6dfbeb56214"
      },
      "source": [
        "data1.groupby(['Score','UpVotePercent']).agg('count')"
      ],
      "execution_count": 15,
      "outputs": [
        {
          "output_type": "execute_result",
          "data": {
            "text/html": [
              "<div>\n",
              "<style scoped>\n",
              "    .dataframe tbody tr th:only-of-type {\n",
              "        vertical-align: middle;\n",
              "    }\n",
              "\n",
              "    .dataframe tbody tr th {\n",
              "        vertical-align: top;\n",
              "    }\n",
              "\n",
              "    .dataframe thead th {\n",
              "        text-align: right;\n",
              "    }\n",
              "</style>\n",
              "<table border=\"1\" class=\"dataframe\">\n",
              "  <thead>\n",
              "    <tr style=\"text-align: right;\">\n",
              "      <th></th>\n",
              "      <th></th>\n",
              "      <th>Id</th>\n",
              "      <th>ProductId</th>\n",
              "      <th>UserId</th>\n",
              "      <th>ProfileName</th>\n",
              "      <th>HelpfulnessNumerator</th>\n",
              "      <th>HelpfulnessDenominator</th>\n",
              "      <th>Time</th>\n",
              "      <th>Summary</th>\n",
              "      <th>Text</th>\n",
              "      <th>HelpPercentage</th>\n",
              "    </tr>\n",
              "    <tr>\n",
              "      <th>Score</th>\n",
              "      <th>UpVotePercent</th>\n",
              "      <th></th>\n",
              "      <th></th>\n",
              "      <th></th>\n",
              "      <th></th>\n",
              "      <th></th>\n",
              "      <th></th>\n",
              "      <th></th>\n",
              "      <th></th>\n",
              "      <th></th>\n",
              "      <th></th>\n",
              "    </tr>\n",
              "  </thead>\n",
              "  <tbody>\n",
              "    <tr>\n",
              "      <th rowspan=\"6\" valign=\"top\">1</th>\n",
              "      <th>Empty</th>\n",
              "      <td>8060</td>\n",
              "      <td>8060</td>\n",
              "      <td>8060</td>\n",
              "      <td>8060</td>\n",
              "      <td>8060</td>\n",
              "      <td>8060</td>\n",
              "      <td>8060</td>\n",
              "      <td>8060</td>\n",
              "      <td>8060</td>\n",
              "      <td>8060</td>\n",
              "    </tr>\n",
              "    <tr>\n",
              "      <th>0-20%</th>\n",
              "      <td>2338</td>\n",
              "      <td>2338</td>\n",
              "      <td>2338</td>\n",
              "      <td>2338</td>\n",
              "      <td>2338</td>\n",
              "      <td>2338</td>\n",
              "      <td>2338</td>\n",
              "      <td>2338</td>\n",
              "      <td>2338</td>\n",
              "      <td>2338</td>\n",
              "    </tr>\n",
              "    <tr>\n",
              "      <th>20-40</th>\n",
              "      <td>4649</td>\n",
              "      <td>4649</td>\n",
              "      <td>4649</td>\n",
              "      <td>4649</td>\n",
              "      <td>4649</td>\n",
              "      <td>4649</td>\n",
              "      <td>4649</td>\n",
              "      <td>4649</td>\n",
              "      <td>4649</td>\n",
              "      <td>4649</td>\n",
              "    </tr>\n",
              "    <tr>\n",
              "      <th>40-60</th>\n",
              "      <td>6586</td>\n",
              "      <td>6586</td>\n",
              "      <td>6586</td>\n",
              "      <td>6586</td>\n",
              "      <td>6586</td>\n",
              "      <td>6586</td>\n",
              "      <td>6586</td>\n",
              "      <td>6586</td>\n",
              "      <td>6586</td>\n",
              "      <td>6586</td>\n",
              "    </tr>\n",
              "    <tr>\n",
              "      <th>60-80</th>\n",
              "      <td>5838</td>\n",
              "      <td>5838</td>\n",
              "      <td>5838</td>\n",
              "      <td>5836</td>\n",
              "      <td>5838</td>\n",
              "      <td>5838</td>\n",
              "      <td>5838</td>\n",
              "      <td>5838</td>\n",
              "      <td>5838</td>\n",
              "      <td>5838</td>\n",
              "    </tr>\n",
              "    <tr>\n",
              "      <th>80-100</th>\n",
              "      <td>12531</td>\n",
              "      <td>12531</td>\n",
              "      <td>12531</td>\n",
              "      <td>12531</td>\n",
              "      <td>12531</td>\n",
              "      <td>12531</td>\n",
              "      <td>12531</td>\n",
              "      <td>12531</td>\n",
              "      <td>12531</td>\n",
              "      <td>12531</td>\n",
              "    </tr>\n",
              "    <tr>\n",
              "      <th rowspan=\"6\" valign=\"top\">2</th>\n",
              "      <th>Empty</th>\n",
              "      <td>4234</td>\n",
              "      <td>4234</td>\n",
              "      <td>4234</td>\n",
              "      <td>4234</td>\n",
              "      <td>4234</td>\n",
              "      <td>4234</td>\n",
              "      <td>4234</td>\n",
              "      <td>4234</td>\n",
              "      <td>4234</td>\n",
              "      <td>4234</td>\n",
              "    </tr>\n",
              "    <tr>\n",
              "      <th>0-20%</th>\n",
              "      <td>762</td>\n",
              "      <td>762</td>\n",
              "      <td>762</td>\n",
              "      <td>762</td>\n",
              "      <td>762</td>\n",
              "      <td>762</td>\n",
              "      <td>762</td>\n",
              "      <td>737</td>\n",
              "      <td>762</td>\n",
              "      <td>762</td>\n",
              "    </tr>\n",
              "    <tr>\n",
              "      <th>20-40</th>\n",
              "      <td>1618</td>\n",
              "      <td>1618</td>\n",
              "      <td>1618</td>\n",
              "      <td>1618</td>\n",
              "      <td>1618</td>\n",
              "      <td>1618</td>\n",
              "      <td>1618</td>\n",
              "      <td>1618</td>\n",
              "      <td>1618</td>\n",
              "      <td>1618</td>\n",
              "    </tr>\n",
              "    <tr>\n",
              "      <th>40-60</th>\n",
              "      <td>3051</td>\n",
              "      <td>3051</td>\n",
              "      <td>3051</td>\n",
              "      <td>3051</td>\n",
              "      <td>3051</td>\n",
              "      <td>3051</td>\n",
              "      <td>3051</td>\n",
              "      <td>3051</td>\n",
              "      <td>3051</td>\n",
              "      <td>3051</td>\n",
              "    </tr>\n",
              "    <tr>\n",
              "      <th>60-80</th>\n",
              "      <td>2486</td>\n",
              "      <td>2486</td>\n",
              "      <td>2486</td>\n",
              "      <td>2486</td>\n",
              "      <td>2486</td>\n",
              "      <td>2486</td>\n",
              "      <td>2486</td>\n",
              "      <td>2486</td>\n",
              "      <td>2486</td>\n",
              "      <td>2486</td>\n",
              "    </tr>\n",
              "    <tr>\n",
              "      <th>80-100</th>\n",
              "      <td>7014</td>\n",
              "      <td>7014</td>\n",
              "      <td>7014</td>\n",
              "      <td>7014</td>\n",
              "      <td>7014</td>\n",
              "      <td>7014</td>\n",
              "      <td>7014</td>\n",
              "      <td>7014</td>\n",
              "      <td>7014</td>\n",
              "      <td>7014</td>\n",
              "    </tr>\n",
              "    <tr>\n",
              "      <th rowspan=\"6\" valign=\"top\">3</th>\n",
              "      <th>Empty</th>\n",
              "      <td>5062</td>\n",
              "      <td>5062</td>\n",
              "      <td>5062</td>\n",
              "      <td>5062</td>\n",
              "      <td>5062</td>\n",
              "      <td>5062</td>\n",
              "      <td>5062</td>\n",
              "      <td>5062</td>\n",
              "      <td>5062</td>\n",
              "      <td>5062</td>\n",
              "    </tr>\n",
              "    <tr>\n",
              "      <th>0-20%</th>\n",
              "      <td>474</td>\n",
              "      <td>474</td>\n",
              "      <td>474</td>\n",
              "      <td>474</td>\n",
              "      <td>474</td>\n",
              "      <td>474</td>\n",
              "      <td>474</td>\n",
              "      <td>474</td>\n",
              "      <td>474</td>\n",
              "      <td>474</td>\n",
              "    </tr>\n",
              "    <tr>\n",
              "      <th>20-40</th>\n",
              "      <td>1506</td>\n",
              "      <td>1506</td>\n",
              "      <td>1506</td>\n",
              "      <td>1506</td>\n",
              "      <td>1506</td>\n",
              "      <td>1506</td>\n",
              "      <td>1506</td>\n",
              "      <td>1506</td>\n",
              "      <td>1506</td>\n",
              "      <td>1506</td>\n",
              "    </tr>\n",
              "    <tr>\n",
              "      <th>40-60</th>\n",
              "      <td>3384</td>\n",
              "      <td>3384</td>\n",
              "      <td>3384</td>\n",
              "      <td>3384</td>\n",
              "      <td>3384</td>\n",
              "      <td>3384</td>\n",
              "      <td>3384</td>\n",
              "      <td>3384</td>\n",
              "      <td>3384</td>\n",
              "      <td>3384</td>\n",
              "    </tr>\n",
              "    <tr>\n",
              "      <th>60-80</th>\n",
              "      <td>2754</td>\n",
              "      <td>2754</td>\n",
              "      <td>2754</td>\n",
              "      <td>2754</td>\n",
              "      <td>2754</td>\n",
              "      <td>2754</td>\n",
              "      <td>2754</td>\n",
              "      <td>2754</td>\n",
              "      <td>2754</td>\n",
              "      <td>2754</td>\n",
              "    </tr>\n",
              "    <tr>\n",
              "      <th>80-100</th>\n",
              "      <td>11037</td>\n",
              "      <td>11037</td>\n",
              "      <td>11037</td>\n",
              "      <td>11037</td>\n",
              "      <td>11037</td>\n",
              "      <td>11037</td>\n",
              "      <td>11037</td>\n",
              "      <td>11036</td>\n",
              "      <td>11037</td>\n",
              "      <td>11037</td>\n",
              "    </tr>\n",
              "    <tr>\n",
              "      <th rowspan=\"6\" valign=\"top\">4</th>\n",
              "      <th>Empty</th>\n",
              "      <td>4780</td>\n",
              "      <td>4780</td>\n",
              "      <td>4780</td>\n",
              "      <td>4780</td>\n",
              "      <td>4780</td>\n",
              "      <td>4780</td>\n",
              "      <td>4780</td>\n",
              "      <td>4780</td>\n",
              "      <td>4780</td>\n",
              "      <td>4780</td>\n",
              "    </tr>\n",
              "    <tr>\n",
              "      <th>0-20%</th>\n",
              "      <td>116</td>\n",
              "      <td>116</td>\n",
              "      <td>116</td>\n",
              "      <td>116</td>\n",
              "      <td>116</td>\n",
              "      <td>116</td>\n",
              "      <td>116</td>\n",
              "      <td>116</td>\n",
              "      <td>116</td>\n",
              "      <td>116</td>\n",
              "    </tr>\n",
              "    <tr>\n",
              "      <th>20-40</th>\n",
              "      <td>909</td>\n",
              "      <td>909</td>\n",
              "      <td>909</td>\n",
              "      <td>909</td>\n",
              "      <td>909</td>\n",
              "      <td>909</td>\n",
              "      <td>909</td>\n",
              "      <td>909</td>\n",
              "      <td>909</td>\n",
              "      <td>909</td>\n",
              "    </tr>\n",
              "    <tr>\n",
              "      <th>40-60</th>\n",
              "      <td>3185</td>\n",
              "      <td>3185</td>\n",
              "      <td>3185</td>\n",
              "      <td>3185</td>\n",
              "      <td>3185</td>\n",
              "      <td>3185</td>\n",
              "      <td>3185</td>\n",
              "      <td>3185</td>\n",
              "      <td>3185</td>\n",
              "      <td>3185</td>\n",
              "    </tr>\n",
              "    <tr>\n",
              "      <th>60-80</th>\n",
              "      <td>2941</td>\n",
              "      <td>2941</td>\n",
              "      <td>2941</td>\n",
              "      <td>2941</td>\n",
              "      <td>2941</td>\n",
              "      <td>2941</td>\n",
              "      <td>2941</td>\n",
              "      <td>2941</td>\n",
              "      <td>2941</td>\n",
              "      <td>2941</td>\n",
              "    </tr>\n",
              "    <tr>\n",
              "      <th>80-100</th>\n",
              "      <td>26707</td>\n",
              "      <td>26707</td>\n",
              "      <td>26707</td>\n",
              "      <td>26707</td>\n",
              "      <td>26707</td>\n",
              "      <td>26707</td>\n",
              "      <td>26707</td>\n",
              "      <td>26707</td>\n",
              "      <td>26707</td>\n",
              "      <td>26707</td>\n",
              "    </tr>\n",
              "    <tr>\n",
              "      <th rowspan=\"6\" valign=\"top\">5</th>\n",
              "      <th>Empty</th>\n",
              "      <td>11638</td>\n",
              "      <td>11638</td>\n",
              "      <td>11638</td>\n",
              "      <td>11638</td>\n",
              "      <td>11638</td>\n",
              "      <td>11638</td>\n",
              "      <td>11638</td>\n",
              "      <td>11638</td>\n",
              "      <td>11638</td>\n",
              "      <td>11638</td>\n",
              "    </tr>\n",
              "    <tr>\n",
              "      <th>0-20%</th>\n",
              "      <td>432</td>\n",
              "      <td>432</td>\n",
              "      <td>432</td>\n",
              "      <td>432</td>\n",
              "      <td>432</td>\n",
              "      <td>432</td>\n",
              "      <td>432</td>\n",
              "      <td>432</td>\n",
              "      <td>432</td>\n",
              "      <td>432</td>\n",
              "    </tr>\n",
              "    <tr>\n",
              "      <th>20-40</th>\n",
              "      <td>2275</td>\n",
              "      <td>2275</td>\n",
              "      <td>2275</td>\n",
              "      <td>2275</td>\n",
              "      <td>2275</td>\n",
              "      <td>2275</td>\n",
              "      <td>2275</td>\n",
              "      <td>2275</td>\n",
              "      <td>2275</td>\n",
              "      <td>2275</td>\n",
              "    </tr>\n",
              "    <tr>\n",
              "      <th>40-60</th>\n",
              "      <td>10312</td>\n",
              "      <td>10312</td>\n",
              "      <td>10312</td>\n",
              "      <td>10312</td>\n",
              "      <td>10312</td>\n",
              "      <td>10312</td>\n",
              "      <td>10312</td>\n",
              "      <td>10312</td>\n",
              "      <td>10312</td>\n",
              "      <td>10312</td>\n",
              "    </tr>\n",
              "    <tr>\n",
              "      <th>60-80</th>\n",
              "      <td>11060</td>\n",
              "      <td>11060</td>\n",
              "      <td>11060</td>\n",
              "      <td>11060</td>\n",
              "      <td>11060</td>\n",
              "      <td>11060</td>\n",
              "      <td>11060</td>\n",
              "      <td>11060</td>\n",
              "      <td>11060</td>\n",
              "      <td>11060</td>\n",
              "    </tr>\n",
              "    <tr>\n",
              "      <th>80-100</th>\n",
              "      <td>140661</td>\n",
              "      <td>140661</td>\n",
              "      <td>140661</td>\n",
              "      <td>140659</td>\n",
              "      <td>140661</td>\n",
              "      <td>140661</td>\n",
              "      <td>140661</td>\n",
              "      <td>140661</td>\n",
              "      <td>140661</td>\n",
              "      <td>140661</td>\n",
              "    </tr>\n",
              "  </tbody>\n",
              "</table>\n",
              "</div>"
            ],
            "text/plain": [
              "                         Id  ProductId  UserId  ...  Summary    Text  HelpPercentage\n",
              "Score UpVotePercent                             ...                                 \n",
              "1     Empty            8060       8060    8060  ...     8060    8060            8060\n",
              "      0-20%            2338       2338    2338  ...     2338    2338            2338\n",
              "      20-40            4649       4649    4649  ...     4649    4649            4649\n",
              "      40-60            6586       6586    6586  ...     6586    6586            6586\n",
              "      60-80            5838       5838    5838  ...     5838    5838            5838\n",
              "      80-100          12531      12531   12531  ...    12531   12531           12531\n",
              "2     Empty            4234       4234    4234  ...     4234    4234            4234\n",
              "      0-20%             762        762     762  ...      737     762             762\n",
              "      20-40            1618       1618    1618  ...     1618    1618            1618\n",
              "      40-60            3051       3051    3051  ...     3051    3051            3051\n",
              "      60-80            2486       2486    2486  ...     2486    2486            2486\n",
              "      80-100           7014       7014    7014  ...     7014    7014            7014\n",
              "3     Empty            5062       5062    5062  ...     5062    5062            5062\n",
              "      0-20%             474        474     474  ...      474     474             474\n",
              "      20-40            1506       1506    1506  ...     1506    1506            1506\n",
              "      40-60            3384       3384    3384  ...     3384    3384            3384\n",
              "      60-80            2754       2754    2754  ...     2754    2754            2754\n",
              "      80-100          11037      11037   11037  ...    11036   11037           11037\n",
              "4     Empty            4780       4780    4780  ...     4780    4780            4780\n",
              "      0-20%             116        116     116  ...      116     116             116\n",
              "      20-40             909        909     909  ...      909     909             909\n",
              "      40-60            3185       3185    3185  ...     3185    3185            3185\n",
              "      60-80            2941       2941    2941  ...     2941    2941            2941\n",
              "      80-100          26707      26707   26707  ...    26707   26707           26707\n",
              "5     Empty           11638      11638   11638  ...    11638   11638           11638\n",
              "      0-20%             432        432     432  ...      432     432             432\n",
              "      20-40            2275       2275    2275  ...     2275    2275            2275\n",
              "      40-60           10312      10312   10312  ...    10312   10312           10312\n",
              "      60-80           11060      11060   11060  ...    11060   11060           11060\n",
              "      80-100         140661     140661  140661  ...   140661  140661          140661\n",
              "\n",
              "[30 rows x 10 columns]"
            ]
          },
          "metadata": {
            "tags": []
          },
          "execution_count": 15
        }
      ]
    },
    {
      "cell_type": "code",
      "metadata": {
        "id": "wZsjkJ1NiLfW"
      },
      "source": [
        "data1_sam = data1.groupby(['Score','UpVotePercent']).agg({'Id':'count'}).reset_index()"
      ],
      "execution_count": 16,
      "outputs": []
    },
    {
      "cell_type": "code",
      "metadata": {
        "colab": {
          "base_uri": "https://localhost:8080/",
          "height": 979
        },
        "id": "XJjkleAVjuxa",
        "outputId": "5a926abb-b788-4bd8-b22d-e33ab714bd57"
      },
      "source": [
        "data1_sam"
      ],
      "execution_count": 17,
      "outputs": [
        {
          "output_type": "execute_result",
          "data": {
            "text/html": [
              "<div>\n",
              "<style scoped>\n",
              "    .dataframe tbody tr th:only-of-type {\n",
              "        vertical-align: middle;\n",
              "    }\n",
              "\n",
              "    .dataframe tbody tr th {\n",
              "        vertical-align: top;\n",
              "    }\n",
              "\n",
              "    .dataframe thead th {\n",
              "        text-align: right;\n",
              "    }\n",
              "</style>\n",
              "<table border=\"1\" class=\"dataframe\">\n",
              "  <thead>\n",
              "    <tr style=\"text-align: right;\">\n",
              "      <th></th>\n",
              "      <th>Score</th>\n",
              "      <th>UpVotePercent</th>\n",
              "      <th>Id</th>\n",
              "    </tr>\n",
              "  </thead>\n",
              "  <tbody>\n",
              "    <tr>\n",
              "      <th>0</th>\n",
              "      <td>1</td>\n",
              "      <td>Empty</td>\n",
              "      <td>8060</td>\n",
              "    </tr>\n",
              "    <tr>\n",
              "      <th>1</th>\n",
              "      <td>1</td>\n",
              "      <td>0-20%</td>\n",
              "      <td>2338</td>\n",
              "    </tr>\n",
              "    <tr>\n",
              "      <th>2</th>\n",
              "      <td>1</td>\n",
              "      <td>20-40</td>\n",
              "      <td>4649</td>\n",
              "    </tr>\n",
              "    <tr>\n",
              "      <th>3</th>\n",
              "      <td>1</td>\n",
              "      <td>40-60</td>\n",
              "      <td>6586</td>\n",
              "    </tr>\n",
              "    <tr>\n",
              "      <th>4</th>\n",
              "      <td>1</td>\n",
              "      <td>60-80</td>\n",
              "      <td>5838</td>\n",
              "    </tr>\n",
              "    <tr>\n",
              "      <th>5</th>\n",
              "      <td>1</td>\n",
              "      <td>80-100</td>\n",
              "      <td>12531</td>\n",
              "    </tr>\n",
              "    <tr>\n",
              "      <th>6</th>\n",
              "      <td>2</td>\n",
              "      <td>Empty</td>\n",
              "      <td>4234</td>\n",
              "    </tr>\n",
              "    <tr>\n",
              "      <th>7</th>\n",
              "      <td>2</td>\n",
              "      <td>0-20%</td>\n",
              "      <td>762</td>\n",
              "    </tr>\n",
              "    <tr>\n",
              "      <th>8</th>\n",
              "      <td>2</td>\n",
              "      <td>20-40</td>\n",
              "      <td>1618</td>\n",
              "    </tr>\n",
              "    <tr>\n",
              "      <th>9</th>\n",
              "      <td>2</td>\n",
              "      <td>40-60</td>\n",
              "      <td>3051</td>\n",
              "    </tr>\n",
              "    <tr>\n",
              "      <th>10</th>\n",
              "      <td>2</td>\n",
              "      <td>60-80</td>\n",
              "      <td>2486</td>\n",
              "    </tr>\n",
              "    <tr>\n",
              "      <th>11</th>\n",
              "      <td>2</td>\n",
              "      <td>80-100</td>\n",
              "      <td>7014</td>\n",
              "    </tr>\n",
              "    <tr>\n",
              "      <th>12</th>\n",
              "      <td>3</td>\n",
              "      <td>Empty</td>\n",
              "      <td>5062</td>\n",
              "    </tr>\n",
              "    <tr>\n",
              "      <th>13</th>\n",
              "      <td>3</td>\n",
              "      <td>0-20%</td>\n",
              "      <td>474</td>\n",
              "    </tr>\n",
              "    <tr>\n",
              "      <th>14</th>\n",
              "      <td>3</td>\n",
              "      <td>20-40</td>\n",
              "      <td>1506</td>\n",
              "    </tr>\n",
              "    <tr>\n",
              "      <th>15</th>\n",
              "      <td>3</td>\n",
              "      <td>40-60</td>\n",
              "      <td>3384</td>\n",
              "    </tr>\n",
              "    <tr>\n",
              "      <th>16</th>\n",
              "      <td>3</td>\n",
              "      <td>60-80</td>\n",
              "      <td>2754</td>\n",
              "    </tr>\n",
              "    <tr>\n",
              "      <th>17</th>\n",
              "      <td>3</td>\n",
              "      <td>80-100</td>\n",
              "      <td>11037</td>\n",
              "    </tr>\n",
              "    <tr>\n",
              "      <th>18</th>\n",
              "      <td>4</td>\n",
              "      <td>Empty</td>\n",
              "      <td>4780</td>\n",
              "    </tr>\n",
              "    <tr>\n",
              "      <th>19</th>\n",
              "      <td>4</td>\n",
              "      <td>0-20%</td>\n",
              "      <td>116</td>\n",
              "    </tr>\n",
              "    <tr>\n",
              "      <th>20</th>\n",
              "      <td>4</td>\n",
              "      <td>20-40</td>\n",
              "      <td>909</td>\n",
              "    </tr>\n",
              "    <tr>\n",
              "      <th>21</th>\n",
              "      <td>4</td>\n",
              "      <td>40-60</td>\n",
              "      <td>3185</td>\n",
              "    </tr>\n",
              "    <tr>\n",
              "      <th>22</th>\n",
              "      <td>4</td>\n",
              "      <td>60-80</td>\n",
              "      <td>2941</td>\n",
              "    </tr>\n",
              "    <tr>\n",
              "      <th>23</th>\n",
              "      <td>4</td>\n",
              "      <td>80-100</td>\n",
              "      <td>26707</td>\n",
              "    </tr>\n",
              "    <tr>\n",
              "      <th>24</th>\n",
              "      <td>5</td>\n",
              "      <td>Empty</td>\n",
              "      <td>11638</td>\n",
              "    </tr>\n",
              "    <tr>\n",
              "      <th>25</th>\n",
              "      <td>5</td>\n",
              "      <td>0-20%</td>\n",
              "      <td>432</td>\n",
              "    </tr>\n",
              "    <tr>\n",
              "      <th>26</th>\n",
              "      <td>5</td>\n",
              "      <td>20-40</td>\n",
              "      <td>2275</td>\n",
              "    </tr>\n",
              "    <tr>\n",
              "      <th>27</th>\n",
              "      <td>5</td>\n",
              "      <td>40-60</td>\n",
              "      <td>10312</td>\n",
              "    </tr>\n",
              "    <tr>\n",
              "      <th>28</th>\n",
              "      <td>5</td>\n",
              "      <td>60-80</td>\n",
              "      <td>11060</td>\n",
              "    </tr>\n",
              "    <tr>\n",
              "      <th>29</th>\n",
              "      <td>5</td>\n",
              "      <td>80-100</td>\n",
              "      <td>140661</td>\n",
              "    </tr>\n",
              "  </tbody>\n",
              "</table>\n",
              "</div>"
            ],
            "text/plain": [
              "    Score UpVotePercent      Id\n",
              "0       1         Empty    8060\n",
              "1       1         0-20%    2338\n",
              "2       1         20-40    4649\n",
              "3       1         40-60    6586\n",
              "4       1         60-80    5838\n",
              "5       1        80-100   12531\n",
              "6       2         Empty    4234\n",
              "7       2         0-20%     762\n",
              "8       2         20-40    1618\n",
              "9       2         40-60    3051\n",
              "10      2         60-80    2486\n",
              "11      2        80-100    7014\n",
              "12      3         Empty    5062\n",
              "13      3         0-20%     474\n",
              "14      3         20-40    1506\n",
              "15      3         40-60    3384\n",
              "16      3         60-80    2754\n",
              "17      3        80-100   11037\n",
              "18      4         Empty    4780\n",
              "19      4         0-20%     116\n",
              "20      4         20-40     909\n",
              "21      4         40-60    3185\n",
              "22      4         60-80    2941\n",
              "23      4        80-100   26707\n",
              "24      5         Empty   11638\n",
              "25      5         0-20%     432\n",
              "26      5         20-40    2275\n",
              "27      5         40-60   10312\n",
              "28      5         60-80   11060\n",
              "29      5        80-100  140661"
            ]
          },
          "metadata": {
            "tags": []
          },
          "execution_count": 17
        }
      ]
    },
    {
      "cell_type": "code",
      "metadata": {
        "colab": {
          "base_uri": "https://localhost:8080/",
          "height": 297
        },
        "id": "zlsmgAl_jxb6",
        "outputId": "2e892630-1b8c-4abc-d5b3-20e23a36a8b8"
      },
      "source": [
        "data1_pivot = data1_sam.pivot_table(index='UpVotePercent',columns='Score')\n",
        "data1_pivot"
      ],
      "execution_count": 20,
      "outputs": [
        {
          "output_type": "execute_result",
          "data": {
            "text/html": [
              "<div>\n",
              "<style scoped>\n",
              "    .dataframe tbody tr th:only-of-type {\n",
              "        vertical-align: middle;\n",
              "    }\n",
              "\n",
              "    .dataframe tbody tr th {\n",
              "        vertical-align: top;\n",
              "    }\n",
              "\n",
              "    .dataframe thead tr th {\n",
              "        text-align: left;\n",
              "    }\n",
              "\n",
              "    .dataframe thead tr:last-of-type th {\n",
              "        text-align: right;\n",
              "    }\n",
              "</style>\n",
              "<table border=\"1\" class=\"dataframe\">\n",
              "  <thead>\n",
              "    <tr>\n",
              "      <th></th>\n",
              "      <th colspan=\"5\" halign=\"left\">Id</th>\n",
              "    </tr>\n",
              "    <tr>\n",
              "      <th>Score</th>\n",
              "      <th>1</th>\n",
              "      <th>2</th>\n",
              "      <th>3</th>\n",
              "      <th>4</th>\n",
              "      <th>5</th>\n",
              "    </tr>\n",
              "    <tr>\n",
              "      <th>UpVotePercent</th>\n",
              "      <th></th>\n",
              "      <th></th>\n",
              "      <th></th>\n",
              "      <th></th>\n",
              "      <th></th>\n",
              "    </tr>\n",
              "  </thead>\n",
              "  <tbody>\n",
              "    <tr>\n",
              "      <th>Empty</th>\n",
              "      <td>8060</td>\n",
              "      <td>4234</td>\n",
              "      <td>5062</td>\n",
              "      <td>4780</td>\n",
              "      <td>11638</td>\n",
              "    </tr>\n",
              "    <tr>\n",
              "      <th>0-20%</th>\n",
              "      <td>2338</td>\n",
              "      <td>762</td>\n",
              "      <td>474</td>\n",
              "      <td>116</td>\n",
              "      <td>432</td>\n",
              "    </tr>\n",
              "    <tr>\n",
              "      <th>20-40</th>\n",
              "      <td>4649</td>\n",
              "      <td>1618</td>\n",
              "      <td>1506</td>\n",
              "      <td>909</td>\n",
              "      <td>2275</td>\n",
              "    </tr>\n",
              "    <tr>\n",
              "      <th>40-60</th>\n",
              "      <td>6586</td>\n",
              "      <td>3051</td>\n",
              "      <td>3384</td>\n",
              "      <td>3185</td>\n",
              "      <td>10312</td>\n",
              "    </tr>\n",
              "    <tr>\n",
              "      <th>60-80</th>\n",
              "      <td>5838</td>\n",
              "      <td>2486</td>\n",
              "      <td>2754</td>\n",
              "      <td>2941</td>\n",
              "      <td>11060</td>\n",
              "    </tr>\n",
              "    <tr>\n",
              "      <th>80-100</th>\n",
              "      <td>12531</td>\n",
              "      <td>7014</td>\n",
              "      <td>11037</td>\n",
              "      <td>26707</td>\n",
              "      <td>140661</td>\n",
              "    </tr>\n",
              "  </tbody>\n",
              "</table>\n",
              "</div>"
            ],
            "text/plain": [
              "                  Id                            \n",
              "Score              1     2      3      4       5\n",
              "UpVotePercent                                   \n",
              "Empty           8060  4234   5062   4780   11638\n",
              "0-20%           2338   762    474    116     432\n",
              "20-40           4649  1618   1506    909    2275\n",
              "40-60           6586  3051   3384   3185   10312\n",
              "60-80           5838  2486   2754   2941   11060\n",
              "80-100         12531  7014  11037  26707  140661"
            ]
          },
          "metadata": {
            "tags": []
          },
          "execution_count": 20
        }
      ]
    },
    {
      "cell_type": "code",
      "metadata": {
        "id": "CBmDQwp6k0bJ"
      },
      "source": [
        ""
      ],
      "execution_count": 18,
      "outputs": []
    },
    {
      "cell_type": "code",
      "metadata": {
        "colab": {
          "base_uri": "https://localhost:8080/",
          "height": 328
        },
        "id": "8VX0_LWUkviJ",
        "outputId": "7156f50d-6dd9-4717-c5a2-a7465f5032d1"
      },
      "source": [
        "data1_pivot.describe()"
      ],
      "execution_count": 68,
      "outputs": [
        {
          "output_type": "execute_result",
          "data": {
            "text/html": [
              "<div>\n",
              "<style scoped>\n",
              "    .dataframe tbody tr th:only-of-type {\n",
              "        vertical-align: middle;\n",
              "    }\n",
              "\n",
              "    .dataframe tbody tr th {\n",
              "        vertical-align: top;\n",
              "    }\n",
              "\n",
              "    .dataframe thead tr th {\n",
              "        text-align: left;\n",
              "    }\n",
              "</style>\n",
              "<table border=\"1\" class=\"dataframe\">\n",
              "  <thead>\n",
              "    <tr>\n",
              "      <th></th>\n",
              "      <th colspan=\"5\" halign=\"left\">Id</th>\n",
              "    </tr>\n",
              "    <tr>\n",
              "      <th>Score</th>\n",
              "      <th>1</th>\n",
              "      <th>2</th>\n",
              "      <th>3</th>\n",
              "      <th>4</th>\n",
              "      <th>5</th>\n",
              "    </tr>\n",
              "  </thead>\n",
              "  <tbody>\n",
              "    <tr>\n",
              "      <th>count</th>\n",
              "      <td>6.0000</td>\n",
              "      <td>6.000000</td>\n",
              "      <td>6.000000</td>\n",
              "      <td>6.000000</td>\n",
              "      <td>6.000000</td>\n",
              "    </tr>\n",
              "    <tr>\n",
              "      <th>mean</th>\n",
              "      <td>6667.0000</td>\n",
              "      <td>3194.166667</td>\n",
              "      <td>4036.166667</td>\n",
              "      <td>6439.666667</td>\n",
              "      <td>29396.333333</td>\n",
              "    </tr>\n",
              "    <tr>\n",
              "      <th>std</th>\n",
              "      <td>3459.2864</td>\n",
              "      <td>2217.841871</td>\n",
              "      <td>3774.229692</td>\n",
              "      <td>10069.060049</td>\n",
              "      <td>54717.669317</td>\n",
              "    </tr>\n",
              "    <tr>\n",
              "      <th>min</th>\n",
              "      <td>2338.0000</td>\n",
              "      <td>762.000000</td>\n",
              "      <td>474.000000</td>\n",
              "      <td>116.000000</td>\n",
              "      <td>432.000000</td>\n",
              "    </tr>\n",
              "    <tr>\n",
              "      <th>25%</th>\n",
              "      <td>4946.2500</td>\n",
              "      <td>1835.000000</td>\n",
              "      <td>1818.000000</td>\n",
              "      <td>1417.000000</td>\n",
              "      <td>4284.250000</td>\n",
              "    </tr>\n",
              "    <tr>\n",
              "      <th>50%</th>\n",
              "      <td>6212.0000</td>\n",
              "      <td>2768.500000</td>\n",
              "      <td>3069.000000</td>\n",
              "      <td>3063.000000</td>\n",
              "      <td>10686.000000</td>\n",
              "    </tr>\n",
              "    <tr>\n",
              "      <th>75%</th>\n",
              "      <td>7691.5000</td>\n",
              "      <td>3938.250000</td>\n",
              "      <td>4642.500000</td>\n",
              "      <td>4381.250000</td>\n",
              "      <td>11493.500000</td>\n",
              "    </tr>\n",
              "    <tr>\n",
              "      <th>max</th>\n",
              "      <td>12531.0000</td>\n",
              "      <td>7014.000000</td>\n",
              "      <td>11037.000000</td>\n",
              "      <td>26707.000000</td>\n",
              "      <td>140661.000000</td>\n",
              "    </tr>\n",
              "  </tbody>\n",
              "</table>\n",
              "</div>"
            ],
            "text/plain": [
              "               Id                                                        \n",
              "Score           1            2             3             4              5\n",
              "count      6.0000     6.000000      6.000000      6.000000       6.000000\n",
              "mean    6667.0000  3194.166667   4036.166667   6439.666667   29396.333333\n",
              "std     3459.2864  2217.841871   3774.229692  10069.060049   54717.669317\n",
              "min     2338.0000   762.000000    474.000000    116.000000     432.000000\n",
              "25%     4946.2500  1835.000000   1818.000000   1417.000000    4284.250000\n",
              "50%     6212.0000  2768.500000   3069.000000   3063.000000   10686.000000\n",
              "75%     7691.5000  3938.250000   4642.500000   4381.250000   11493.500000\n",
              "max    12531.0000  7014.000000  11037.000000  26707.000000  140661.000000"
            ]
          },
          "metadata": {
            "tags": []
          },
          "execution_count": 68
        }
      ]
    },
    {
      "cell_type": "code",
      "metadata": {
        "colab": {
          "base_uri": "https://localhost:8080/",
          "height": 299
        },
        "id": "SNTtJn8HkjqR",
        "outputId": "1cf08212-1897-4c7d-86a9-efbdcc5fc1db"
      },
      "source": [
        "sns.heatmap(data1_pivot,annot=True,cmap='icefire')"
      ],
      "execution_count": 22,
      "outputs": [
        {
          "output_type": "execute_result",
          "data": {
            "text/plain": [
              "<matplotlib.axes._subplots.AxesSubplot at 0x7ff33ad37e10>"
            ]
          },
          "metadata": {
            "tags": []
          },
          "execution_count": 22
        },
        {
          "output_type": "display_data",
          "data": {
            "image/png": "[encoded data removed]",
            "text/plain": [
              "<Figure size 432x288 with 2 Axes>"
            ]
          },
          "metadata": {
            "tags": [],
            "needs_background": "light"
          }
        }
      ]
    },
    {
      "cell_type": "code",
      "metadata": {
        "id": "pXthEIwtonqy"
      },
      "source": [
        "  #data1_pivot.to_csv(\"SemiProcessed.csv\",index=False)"
      ],
      "execution_count": 23,
      "outputs": []
    },
    {
      "cell_type": "code",
      "metadata": {
        "id": "pdSo6CiSsFD0",
        "colab": {
          "base_uri": "https://localhost:8080/"
        },
        "outputId": "85d6591b-a0c8-4a7d-b9a7-214683075290"
      },
      "source": [
        "data1['Score'].unique()"
      ],
      "execution_count": 24,
      "outputs": [
        {
          "output_type": "execute_result",
          "data": {
            "text/plain": [
              "array([5, 1, 4, 2, 3])"
            ]
          },
          "metadata": {
            "tags": []
          },
          "execution_count": 24
        }
      ]
    },
    {
      "cell_type": "code",
      "metadata": {
        "id": "HYoQSyu2ALy9"
      },
      "source": [
        "#Removing Neutral Reviews Score i,e 3  and copying rest to new data2 \n",
        "data2 = data1[data1['Score']!=3]\n",
        "data2['Score'].unique()"
      ],
      "execution_count": 28,
      "outputs": []
    },
    {
      "cell_type": "code",
      "metadata": {
        "colab": {
          "base_uri": "https://localhost:8080/"
        },
        "id": "LfHZSSHtAmmr",
        "outputId": "7f09d684-a782-4a75-9df8-e3c4b41c5040"
      },
      "source": [
        "data2.tail()\n"
      ],
      "execution_count": 31,
      "outputs": [
        {
          "output_type": "execute_result",
          "data": {
            "text/plain": [
              "array([5, 1, 4, 2])"
            ]
          },
          "metadata": {
            "tags": []
          },
          "execution_count": 31
        }
      ]
    },
    {
      "cell_type": "code",
      "metadata": {
        "id": "QKuWmi1vAou8"
      },
      "source": [
        "X = data2['Text']"
      ],
      "execution_count": 30,
      "outputs": []
    },
    {
      "cell_type": "code",
      "metadata": {
        "id": "d8fMxvhaA1AK"
      },
      "source": [
        "y_dictionary ={1:0,2:0,5:1,4:1}\n",
        "Y = data2['Score'].map(y_dictionary)"
      ],
      "execution_count": 33,
      "outputs": []
    },
    {
      "cell_type": "code",
      "metadata": {
        "id": "c4KQ0sIbBcWx"
      },
      "source": [
        "CvCt = CountVectorizer(stop_words='english')"
      ],
      "execution_count": 41,
      "outputs": []
    },
    {
      "cell_type": "code",
      "metadata": {
        "id": "Oldb7F6eCEjv"
      },
      "source": [
        "X_Cv = CvCt.fit_transform(X)"
      ],
      "execution_count": 42,
      "outputs": []
    },
    {
      "cell_type": "code",
      "metadata": {
        "colab": {
          "base_uri": "https://localhost:8080/"
        },
        "id": "ypyQam0sCXzv",
        "outputId": "74ee479a-f86c-4770-f4dd-8d2923b505ac"
      },
      "source": [
        "X_Cv.shape"
      ],
      "execution_count": 43,
      "outputs": [
        {
          "output_type": "execute_result",
          "data": {
            "text/plain": [
              "(525814, 114969)"
            ]
          },
          "metadata": {
            "tags": []
          },
          "execution_count": 43
        }
      ]
    },
    {
      "cell_type": "code",
      "metadata": {
        "id": "_EIYxOxgC1hv"
      },
      "source": [
        "X_train,X_test, Y_train , Y_test = train_test_split(X_Cv,Y)"
      ],
      "execution_count": 45,
      "outputs": []
    },
    {
      "cell_type": "code",
      "metadata": {
        "colab": {
          "base_uri": "https://localhost:8080/"
        },
        "id": "aNr89zcXDCp-",
        "outputId": "f9d8ec4f-c1a0-4bf9-a1f4-8621a1345790"
      },
      "source": [
        "X_test.shape"
      ],
      "execution_count": 46,
      "outputs": [
        {
          "output_type": "execute_result",
          "data": {
            "text/plain": [
              "(131454, 114969)"
            ]
          },
          "metadata": {
            "tags": []
          },
          "execution_count": 46
        }
      ]
    },
    {
      "cell_type": "code",
      "metadata": {
        "colab": {
          "base_uri": "https://localhost:8080/"
        },
        "id": "YqYX8BeiDSQO",
        "outputId": "a2f8babd-e8a8-40a6-b124-bc7a4e5b9df3"
      },
      "source": [
        "Y_test.shape"
      ],
      "execution_count": 47,
      "outputs": [
        {
          "output_type": "execute_result",
          "data": {
            "text/plain": [
              "(131454,)"
            ]
          },
          "metadata": {
            "tags": []
          },
          "execution_count": 47
        }
      ]
    },
    {
      "cell_type": "code",
      "metadata": {
        "colab": {
          "base_uri": "https://localhost:8080/"
        },
        "id": "kCvoFBzZDVDW",
        "outputId": "20f913ad-b1af-4d19-e5e2-a9b2adde7258"
      },
      "source": [
        "Y_train.shape"
      ],
      "execution_count": 48,
      "outputs": [
        {
          "output_type": "execute_result",
          "data": {
            "text/plain": [
              "(394360,)"
            ]
          },
          "metadata": {
            "tags": []
          },
          "execution_count": 48
        }
      ]
    },
    {
      "cell_type": "code",
      "metadata": {
        "id": "kUXjYDVCDgHu"
      },
      "source": [
        "logReg = LogisticRegression()"
      ],
      "execution_count": 51,
      "outputs": []
    },
    {
      "cell_type": "code",
      "metadata": {
        "colab": {
          "base_uri": "https://localhost:8080/"
        },
        "id": "5R_t0OotDpmV",
        "outputId": "6a5b7254-4eb1-4da5-f369-07d46326433c"
      },
      "source": [
        "#training data into Logistic Regression model\n",
        "logModel = logReg.fit(X_train,Y_train)\n"
      ],
      "execution_count": 53,
      "outputs": [
        {
          "output_type": "stream",
          "text": [
            "/usr/local/lib/python3.7/dist-packages/sklearn/linear_model/_logistic.py:940: ConvergenceWarning: lbfgs failed to converge (status=1):\n",
            "STOP: TOTAL NO. of ITERATIONS REACHED LIMIT.\n",
            "\n",
            "Increase the number of iterations (max_iter) or scale the data as shown in:\n",
            "    https://scikit-learn.org/stable/modules/preprocessing.html\n",
            "Please also refer to the documentation for alternative solver options:\n",
            "    https://scikit-learn.org/stable/modules/linear_model.html#logistic-regression\n",
            "  extra_warning_msg=_LOGISTIC_SOLVER_CONVERGENCE_MSG)\n"
          ],
          "name": "stderr"
        }
      ]
    },
    {
      "cell_type": "code",
      "metadata": {
        "colab": {
          "base_uri": "https://localhost:8080/"
        },
        "id": "WnyTbllaD-EM",
        "outputId": "7551e98c-8678-471b-f685-4ce49521d3d8"
      },
      "source": [
        "#Testing the Model accuracy\n",
        "logModel.score(X_test,Y_test)"
      ],
      "execution_count": 55,
      "outputs": [
        {
          "output_type": "execute_result",
          "data": {
            "text/plain": [
              "0.9358863176472378"
            ]
          },
          "metadata": {
            "tags": []
          },
          "execution_count": 55
        }
      ]
    },
    {
      "cell_type": "code",
      "metadata": {
        "id": "5SvLgJy7EKAk"
      },
      "source": [
        "w = CvCt.get_feature_names()"
      ],
      "execution_count": 59,
      "outputs": []
    },
    {
      "cell_type": "code",
      "metadata": {
        "id": "ig6pvWQ5EW2P"
      },
      "source": [
        "Coefficent = logModel.coef_.tolist()[0]"
      ],
      "execution_count": 57,
      "outputs": []
    },
    {
      "cell_type": "code",
      "metadata": {
        "id": "neS6JwhtErUq"
      },
      "source": [
        "Coeff_Data = pd.DataFrame({'Word':w ,'Coefficient':Coefficent})"
      ],
      "execution_count": 60,
      "outputs": []
    },
    {
      "cell_type": "code",
      "metadata": {
        "id": "svQrA3jsFG36"
      },
      "source": [
        "PosNegRev  = Coeff_Data.sort_values(['Coefficient','Word'])"
      ],
      "execution_count": 63,
      "outputs": []
    },
    {
      "cell_type": "code",
      "metadata": {
        "colab": {
          "base_uri": "https://localhost:8080/",
          "height": 514
        },
        "id": "zVt_ZPNcFcxK",
        "outputId": "544c310d-ea39-481c-fb47-6d5a3692d114"
      },
      "source": [
        "#Top 15 Negative Words in Reviews\n",
        "PosNegRev.head(15)\n"
      ],
      "execution_count": 69,
      "outputs": [
        {
          "output_type": "execute_result",
          "data": {
            "text/html": [
              "<div>\n",
              "<style scoped>\n",
              "    .dataframe tbody tr th:only-of-type {\n",
              "        vertical-align: middle;\n",
              "    }\n",
              "\n",
              "    .dataframe tbody tr th {\n",
              "        vertical-align: top;\n",
              "    }\n",
              "\n",
              "    .dataframe thead th {\n",
              "        text-align: right;\n",
              "    }\n",
              "</style>\n",
              "<table border=\"1\" class=\"dataframe\">\n",
              "  <thead>\n",
              "    <tr style=\"text-align: right;\">\n",
              "      <th></th>\n",
              "      <th>Word</th>\n",
              "      <th>Coefficient</th>\n",
              "    </tr>\n",
              "  </thead>\n",
              "  <tbody>\n",
              "    <tr>\n",
              "      <th>107383</th>\n",
              "      <td>undrinkable</td>\n",
              "      <td>-3.852622</td>\n",
              "    </tr>\n",
              "    <tr>\n",
              "      <th>34989</th>\n",
              "      <td>deceptive</td>\n",
              "      <td>-3.544471</td>\n",
              "    </tr>\n",
              "    <tr>\n",
              "      <th>24949</th>\n",
              "      <td>cancelled</td>\n",
              "      <td>-3.214438</td>\n",
              "    </tr>\n",
              "    <tr>\n",
              "      <th>106852</th>\n",
              "      <td>unacceptable</td>\n",
              "      <td>-3.156082</td>\n",
              "    </tr>\n",
              "    <tr>\n",
              "      <th>113164</th>\n",
              "      <td>worst</td>\n",
              "      <td>-3.136914</td>\n",
              "    </tr>\n",
              "    <tr>\n",
              "      <th>65064</th>\n",
              "      <td>lousy</td>\n",
              "      <td>-3.080484</td>\n",
              "    </tr>\n",
              "    <tr>\n",
              "      <th>88945</th>\n",
              "      <td>ripoff</td>\n",
              "      <td>-2.878368</td>\n",
              "    </tr>\n",
              "    <tr>\n",
              "      <th>37560</th>\n",
              "      <td>disappointing</td>\n",
              "      <td>-2.861000</td>\n",
              "    </tr>\n",
              "    <tr>\n",
              "      <th>37528</th>\n",
              "      <td>disapointed</td>\n",
              "      <td>-2.856344</td>\n",
              "    </tr>\n",
              "    <tr>\n",
              "      <th>88351</th>\n",
              "      <td>returnable</td>\n",
              "      <td>-2.827314</td>\n",
              "    </tr>\n",
              "    <tr>\n",
              "      <th>67898</th>\n",
              "      <td>mediocre</td>\n",
              "      <td>-2.813503</td>\n",
              "    </tr>\n",
              "    <tr>\n",
              "      <th>46083</th>\n",
              "      <td>flavorless</td>\n",
              "      <td>-2.671188</td>\n",
              "    </tr>\n",
              "    <tr>\n",
              "      <th>89868</th>\n",
              "      <td>ruins</td>\n",
              "      <td>-2.632921</td>\n",
              "    </tr>\n",
              "    <tr>\n",
              "      <th>23814</th>\n",
              "      <td>bummer</td>\n",
              "      <td>-2.632012</td>\n",
              "    </tr>\n",
              "    <tr>\n",
              "      <th>41118</th>\n",
              "      <td>embarrassed</td>\n",
              "      <td>-2.630096</td>\n",
              "    </tr>\n",
              "  </tbody>\n",
              "</table>\n",
              "</div>"
            ],
            "text/plain": [
              "                 Word  Coefficient\n",
              "107383    undrinkable    -3.852622\n",
              "34989       deceptive    -3.544471\n",
              "24949       cancelled    -3.214438\n",
              "106852   unacceptable    -3.156082\n",
              "113164          worst    -3.136914\n",
              "65064           lousy    -3.080484\n",
              "88945          ripoff    -2.878368\n",
              "37560   disappointing    -2.861000\n",
              "37528     disapointed    -2.856344\n",
              "88351      returnable    -2.827314\n",
              "67898        mediocre    -2.813503\n",
              "46083      flavorless    -2.671188\n",
              "89868           ruins    -2.632921\n",
              "23814          bummer    -2.632012\n",
              "41118     embarrassed    -2.630096"
            ]
          },
          "metadata": {
            "tags": []
          },
          "execution_count": 69
        }
      ]
    },
    {
      "cell_type": "code",
      "metadata": {
        "colab": {
          "base_uri": "https://localhost:8080/",
          "height": 514
        },
        "id": "tBaroY_PFgPe",
        "outputId": "37f91b98-ef3a-4f64-9d67-d5c499102bba"
      },
      "source": [
        "#Top 15 Positive words in Reviews\n",
        "PosNegRev.tail(15)"
      ],
      "execution_count": 70,
      "outputs": [
        {
          "output_type": "execute_result",
          "data": {
            "text/html": [
              "<div>\n",
              "<style scoped>\n",
              "    .dataframe tbody tr th:only-of-type {\n",
              "        vertical-align: middle;\n",
              "    }\n",
              "\n",
              "    .dataframe tbody tr th {\n",
              "        vertical-align: top;\n",
              "    }\n",
              "\n",
              "    .dataframe thead th {\n",
              "        text-align: right;\n",
              "    }\n",
              "</style>\n",
              "<table border=\"1\" class=\"dataframe\">\n",
              "  <thead>\n",
              "    <tr style=\"text-align: right;\">\n",
              "      <th></th>\n",
              "      <th>Word</th>\n",
              "      <th>Coefficient</th>\n",
              "    </tr>\n",
              "  </thead>\n",
              "  <tbody>\n",
              "    <tr>\n",
              "      <th>111911</th>\n",
              "      <td>whim</td>\n",
              "      <td>2.209464</td>\n",
              "    </tr>\n",
              "    <tr>\n",
              "      <th>35726</th>\n",
              "      <td>delish</td>\n",
              "      <td>2.263913</td>\n",
              "    </tr>\n",
              "    <tr>\n",
              "      <th>40342</th>\n",
              "      <td>economical</td>\n",
              "      <td>2.366420</td>\n",
              "    </tr>\n",
              "    <tr>\n",
              "      <th>39214</th>\n",
              "      <td>drawback</td>\n",
              "      <td>2.373360</td>\n",
              "    </tr>\n",
              "    <tr>\n",
              "      <th>87967</th>\n",
              "      <td>resist</td>\n",
              "      <td>2.383865</td>\n",
              "    </tr>\n",
              "    <tr>\n",
              "      <th>35691</th>\n",
              "      <td>delighted</td>\n",
              "      <td>2.399365</td>\n",
              "    </tr>\n",
              "    <tr>\n",
              "      <th>102857</th>\n",
              "      <td>terrific</td>\n",
              "      <td>2.421015</td>\n",
              "    </tr>\n",
              "    <tr>\n",
              "      <th>55029</th>\n",
              "      <td>hooked</td>\n",
              "      <td>2.448567</td>\n",
              "    </tr>\n",
              "    <tr>\n",
              "      <th>54130</th>\n",
              "      <td>hesitant</td>\n",
              "      <td>2.500389</td>\n",
              "    </tr>\n",
              "    <tr>\n",
              "      <th>113138</th>\n",
              "      <td>worries</td>\n",
              "      <td>2.538374</td>\n",
              "    </tr>\n",
              "    <tr>\n",
              "      <th>96140</th>\n",
              "      <td>solved</td>\n",
              "      <td>2.682760</td>\n",
              "    </tr>\n",
              "    <tr>\n",
              "      <th>94667</th>\n",
              "      <td>skeptical</td>\n",
              "      <td>2.787155</td>\n",
              "    </tr>\n",
              "    <tr>\n",
              "      <th>5865</th>\n",
              "      <td>addicting</td>\n",
              "      <td>3.236112</td>\n",
              "    </tr>\n",
              "    <tr>\n",
              "      <th>39072</th>\n",
              "      <td>downside</td>\n",
              "      <td>3.364623</td>\n",
              "    </tr>\n",
              "    <tr>\n",
              "      <th>80600</th>\n",
              "      <td>pleasantly</td>\n",
              "      <td>4.276240</td>\n",
              "    </tr>\n",
              "  </tbody>\n",
              "</table>\n",
              "</div>"
            ],
            "text/plain": [
              "              Word  Coefficient\n",
              "111911        whim     2.209464\n",
              "35726       delish     2.263913\n",
              "40342   economical     2.366420\n",
              "39214     drawback     2.373360\n",
              "87967       resist     2.383865\n",
              "35691    delighted     2.399365\n",
              "102857    terrific     2.421015\n",
              "55029       hooked     2.448567\n",
              "54130     hesitant     2.500389\n",
              "113138     worries     2.538374\n",
              "96140       solved     2.682760\n",
              "94667    skeptical     2.787155\n",
              "5865     addicting     3.236112\n",
              "39072     downside     3.364623\n",
              "80600   pleasantly     4.276240"
            ]
          },
          "metadata": {
            "tags": []
          },
          "execution_count": 70
        }
      ]
    },
    {
      "cell_type": "code",
      "metadata": {
        "id": "rg6O2uzSHrt_"
      },
      "source": [
        "PosNegRev.tail(100).to_csv(\"PositiveWords.csv\",index=False)"
      ],
      "execution_count": 72,
      "outputs": []
    },
    {
      "cell_type": "code",
      "metadata": {
        "id": "LrVe9Bw3IzdD"
      },
      "source": [
        "PosNegRev.head(100).to_csv(\"NegativeWords.csv\",index=False)"
      ],
      "execution_count": 73,
      "outputs": []
    },
    {
      "cell_type": "code",
      "metadata": {
        "id": "rWce3dlxJBEj"
      },
      "source": [
        ""
      ],
      "execution_count": null,
      "outputs": []
    },
    {
      "cell_type": "code",
      "metadata": {
        "id": "al-uGaACIo4T"
      },
      "source": [
        ""
      ],
      "execution_count": null,
      "outputs": []
    },
    {
      "cell_type": "code",
      "metadata": {
        "id": "9e6Fj0xUF3GK"
      },
      "source": [
        ""
      ],
      "execution_count": null,
      "outputs": []
    },
    {
      "cell_type": "code",
      "metadata": {
        "id": "_n2sy5o2FsGB"
      },
      "source": [
        ""
      ],
      "execution_count": null,
      "outputs": []
    },
    {
      "cell_type": "code",
      "metadata": {
        "id": "xVAFqT-CFVzK"
      },
      "source": [
        ""
      ],
      "execution_count": null,
      "outputs": []
    },
    {
      "cell_type": "code",
      "metadata": {
        "id": "szjlUU7yEFvT"
      },
      "source": [
        ""
      ],
      "execution_count": null,
      "outputs": []
    },
    {
      "cell_type": "code",
      "metadata": {
        "id": "nysFKU_PDvyF"
      },
      "source": [
        ""
      ],
      "execution_count": null,
      "outputs": []
    },
    {
      "cell_type": "code",
      "metadata": {
        "id": "5Ved0fntB-mo"
      },
      "source": [
        ""
      ],
      "execution_count": null,
      "outputs": []
    },
    {
      "cell_type": "code",
      "metadata": {
        "id": "t1fhmaGVB7Fc"
      },
      "source": [
        ""
      ],
      "execution_count": null,
      "outputs": []
    },
    {
      "cell_type": "code",
      "metadata": {
        "id": "Z9Xhnr4tAg6a"
      },
      "source": [
        ""
      ],
      "execution_count": null,
      "outputs": []
    },
    {
      "cell_type": "code",
      "metadata": {
        "id": "FJWQUWwGBfAB"
      },
      "source": [
        ""
      ],
      "execution_count": null,
      "outputs": []
    },
    {
      "cell_type": "code",
      "metadata": {
        "id": "ZNIWKGkYAeFq"
      },
      "source": [
        ""
      ],
      "execution_count": null,
      "outputs": []
    },
    {
      "cell_type": "code",
      "metadata": {
        "id": "w4FalCBoAVnL"
      },
      "source": [
        ""
      ],
      "execution_count": null,
      "outputs": []
    },
    {
      "cell_type": "code",
      "metadata": {
        "id": "VRswaFSSrzAc"
      },
      "source": [
        ""
      ],
      "execution_count": null,
      "outputs": []
    },
    {
      "cell_type": "code",
      "metadata": {
        "id": "aHu_XZ4nolSK"
      },
      "source": [
        ""
      ],
      "execution_count": null,
      "outputs": []
    },
    {
      "cell_type": "code",
      "metadata": {
        "id": "w-MofL3Boi7y"
      },
      "source": [
        ""
      ],
      "execution_count": null,
      "outputs": []
    },
    {
      "cell_type": "code",
      "metadata": {
        "id": "oHfga8xUocEy"
      },
      "source": [
        ""
      ],
      "execution_count": null,
      "outputs": []
    },
    {
      "cell_type": "code",
      "metadata": {
        "id": "R67uy-F0oXdD"
      },
      "source": [
        ""
      ],
      "execution_count": null,
      "outputs": []
    },
    {
      "cell_type": "code",
      "metadata": {
        "id": "XB_N4XQSoTQb"
      },
      "source": [
        ""
      ],
      "execution_count": null,
      "outputs": []
    },
    {
      "cell_type": "code",
      "metadata": {
        "id": "dkRsZKSjoPEV"
      },
      "source": [
        ""
      ],
      "execution_count": null,
      "outputs": []
    },
    {
      "cell_type": "code",
      "metadata": {
        "id": "45VS6ALBlYSw"
      },
      "source": [
        ""
      ],
      "execution_count": null,
      "outputs": []
    },
    {
      "cell_type": "code",
      "metadata": {
        "id": "gV8QRFnhlWSA"
      },
      "source": [
        ""
      ],
      "execution_count": null,
      "outputs": []
    },
    {
      "cell_type": "code",
      "metadata": {
        "id": "TntCjUGmlLfw"
      },
      "source": [
        ""
      ],
      "execution_count": null,
      "outputs": []
    },
    {
      "cell_type": "code",
      "metadata": {
        "id": "Pzso-DIXk9ai"
      },
      "source": [
        ""
      ],
      "execution_count": null,
      "outputs": []
    },
    {
      "cell_type": "code",
      "metadata": {
        "id": "ZauMg_Clk5Xh"
      },
      "source": [
        ""
      ],
      "execution_count": null,
      "outputs": []
    },
    {
      "cell_type": "code",
      "metadata": {
        "id": "OiH-e0egkn8Z"
      },
      "source": [
        ""
      ],
      "execution_count": null,
      "outputs": []
    },
    {
      "cell_type": "code",
      "metadata": {
        "id": "bW8Hh7Mij7Ey"
      },
      "source": [
        ""
      ],
      "execution_count": null,
      "outputs": []
    },
    {
      "cell_type": "code",
      "metadata": {
        "id": "-d4o-5ycjhei"
      },
      "source": [
        ""
      ],
      "execution_count": null,
      "outputs": []
    },
    {
      "cell_type": "code",
      "metadata": {
        "id": "6CutkcCgjPAa"
      },
      "source": [
        ""
      ],
      "execution_count": null,
      "outputs": []
    },
    {
      "cell_type": "code",
      "metadata": {
        "id": "sLHosKQ6jMEr"
      },
      "source": [
        ""
      ],
      "execution_count": null,
      "outputs": []
    },
    {
      "cell_type": "code",
      "metadata": {
        "id": "DpsYpzbpjCQs"
      },
      "source": [
        ""
      ],
      "execution_count": null,
      "outputs": []
    },
    {
      "cell_type": "code",
      "metadata": {
        "id": "LsO7S1Etizns"
      },
      "source": [
        ""
      ],
      "execution_count": null,
      "outputs": []
    },
    {
      "cell_type": "code",
      "metadata": {
        "id": "d0tdRdluiqOH"
      },
      "source": [
        ""
      ],
      "execution_count": null,
      "outputs": []
    },
    {
      "cell_type": "code",
      "metadata": {
        "id": "T1Fga4RvinZd"
      },
      "source": [
        ""
      ],
      "execution_count": null,
      "outputs": []
    },
    {
      "cell_type": "code",
      "metadata": {
        "id": "PZ1SOISZiFnu"
      },
      "source": [
        ""
      ],
      "execution_count": null,
      "outputs": []
    },
    {
      "cell_type": "code",
      "metadata": {
        "id": "xlC6AHjRh4du"
      },
      "source": [
        ""
      ],
      "execution_count": null,
      "outputs": []
    },
    {
      "cell_type": "code",
      "metadata": {
        "id": "waQR3OCohyD3"
      },
      "source": [
        ""
      ],
      "execution_count": null,
      "outputs": []
    },
    {
      "cell_type": "code",
      "metadata": {
        "id": "07xwBaSFhrAf"
      },
      "source": [
        ""
      ],
      "execution_count": null,
      "outputs": []
    },
    {
      "cell_type": "code",
      "metadata": {
        "id": "C6nmSs0qhUUU"
      },
      "source": [
        ""
      ],
      "execution_count": null,
      "outputs": []
    },
    {
      "cell_type": "code",
      "metadata": {
        "id": "UYTLC-KYgwZl"
      },
      "source": [
        ""
      ],
      "execution_count": null,
      "outputs": []
    },
    {
      "cell_type": "code",
      "metadata": {
        "id": "-lOdIlBagJ7R"
      },
      "source": [
        ""
      ],
      "execution_count": null,
      "outputs": []
    },
    {
      "cell_type": "code",
      "metadata": {
        "id": "4BpCLxgTflK-"
      },
      "source": [
        ""
      ],
      "execution_count": null,
      "outputs": []
    },
    {
      "cell_type": "code",
      "metadata": {
        "id": "OnRibmXtevac"
      },
      "source": [
        ""
      ],
      "execution_count": null,
      "outputs": []
    },
    {
      "cell_type": "code",
      "metadata": {
        "id": "UDE4lkhAer5H"
      },
      "source": [
        ""
      ],
      "execution_count": null,
      "outputs": []
    },
    {
      "cell_type": "code",
      "metadata": {
        "id": "Onye9iSqepW7"
      },
      "source": [
        ""
      ],
      "execution_count": null,
      "outputs": []
    },
    {
      "cell_type": "code",
      "metadata": {
        "id": "wSshau7HemHE"
      },
      "source": [
        ""
      ],
      "execution_count": null,
      "outputs": []
    },
    {
      "cell_type": "code",
      "metadata": {
        "id": "mZU0cZ0gejUU"
      },
      "source": [
        ""
      ],
      "execution_count": null,
      "outputs": []
    },
    {
      "cell_type": "code",
      "metadata": {
        "id": "hlTuSjzpdrcm"
      },
      "source": [
        ""
      ],
      "execution_count": null,
      "outputs": []
    },
    {
      "cell_type": "code",
      "metadata": {
        "id": "vidL62aveT60"
      },
      "source": [
        ""
      ],
      "execution_count": null,
      "outputs": []
    },
    {
      "cell_type": "code",
      "metadata": {
        "id": "4ksRzxTpeP8d"
      },
      "source": [
        ""
      ],
      "execution_count": null,
      "outputs": []
    },
    {
      "cell_type": "code",
      "metadata": {
        "id": "8_6nc0A1dm71"
      },
      "source": [
        ""
      ],
      "execution_count": null,
      "outputs": []
    },
    {
      "cell_type": "code",
      "metadata": {
        "id": "fHwGBzNLdjet"
      },
      "source": [
        ""
      ],
      "execution_count": null,
      "outputs": []
    },
    {
      "cell_type": "code",
      "metadata": {
        "id": "VzgcKjwJdgmd"
      },
      "source": [
        ""
      ],
      "execution_count": null,
      "outputs": []
    },
    {
      "cell_type": "code",
      "metadata": {
        "id": "xZGnvU0JdWpG"
      },
      "source": [
        ""
      ],
      "execution_count": null,
      "outputs": []
    },
    {
      "cell_type": "code",
      "metadata": {
        "id": "Pz_sCCNmdTEG"
      },
      "source": [
        ""
      ],
      "execution_count": null,
      "outputs": []
    },
    {
      "cell_type": "code",
      "metadata": {
        "id": "ElJvGgOudKno"
      },
      "source": [
        ""
      ],
      "execution_count": null,
      "outputs": []
    },
    {
      "cell_type": "code",
      "metadata": {
        "id": "DSf3JjWBc8i_"
      },
      "source": [
        ""
      ],
      "execution_count": null,
      "outputs": []
    }
  ]
}